{
 "cells": [
  {
   "cell_type": "markdown",
   "id": "de84dda4",
   "metadata": {},
   "source": [
    "## Homework 1: Applied Machine Learning"
   ]
  },
  {
   "cell_type": "markdown",
   "id": "b7101150",
   "metadata": {},
   "source": [
    "This assignment covers contents of the first three lectures. \n",
    "\n",
    "The emphasis for this assignment would be on the following:\n",
    "1. Data Visualization and Analysis\n",
    "2. Linear Models for Regression and Classification\n",
    "3. Support Vector Machines"
   ]
  },
  {
   "cell_type": "code",
   "execution_count": 2,
   "id": "49cffd03",
   "metadata": {},
   "outputs": [],
   "source": [
    "import warnings\n",
    "\n",
    "def fxn():\n",
    "    warnings.warn(\"deprecated\", DeprecationWarning)\n",
    "\n",
    "with warnings.catch_warnings():\n",
    "    warnings.simplefilter(\"ignore\")\n",
    "    fxn()"
   ]
  },
  {
   "cell_type": "code",
   "execution_count": 3,
   "id": "96086fb6",
   "metadata": {},
   "outputs": [],
   "source": [
    "import numpy as np\n",
    "import pandas as pd\n",
    "import seaborn as sns\n",
    "import matplotlib.pyplot as plt\n",
    "from numpy.linalg import inv\n",
    "%matplotlib inline\n",
    "from sklearn.model_selection import train_test_split\n",
    "from sklearn.preprocessing import StandardScaler, OneHotEncoder, OrdinalEncoder\n",
    "from sklearn.metrics import r2_score\n",
    "from sklearn.svm import LinearSVC, SVC"
   ]
  },
  {
   "cell_type": "markdown",
   "id": "965fbeb7",
   "metadata": {},
   "source": [
    "## Part 1: Data Visualization and Analysis"
   ]
  },
  {
   "cell_type": "markdown",
   "id": "0b47876b",
   "metadata": {},
   "source": [
    "> \"Visualization gives you answers to questions you didn’t know you had.\" ~ Ben Schneiderman\n",
    ">\n",
    "\n",
    "Data visualization comes in handy when we want to understand data characteristics and read patterns in datasets with thousands of samples and features.\n",
    "\n",
    "<b>Note: Remember to label plot axes while plotting.</b>\n",
    "\n",
    "### The dataset to be used for this section is car_price.csv.\n"
   ]
  },
  {
   "cell_type": "code",
   "execution_count": 4,
   "id": "d7e0ed9a",
   "metadata": {
    "scrolled": true
   },
   "outputs": [],
   "source": [
    "# Load the dataset\n",
    "car_price_df = pd.read_csv('car_price.csv')"
   ]
  },
  {
   "cell_type": "code",
   "execution_count": 5,
   "id": "28d757aa",
   "metadata": {},
   "outputs": [
    {
     "data": {
      "text/html": [
       "<div>\n",
       "<style scoped>\n",
       "    .dataframe tbody tr th:only-of-type {\n",
       "        vertical-align: middle;\n",
       "    }\n",
       "\n",
       "    .dataframe tbody tr th {\n",
       "        vertical-align: top;\n",
       "    }\n",
       "\n",
       "    .dataframe thead th {\n",
       "        text-align: right;\n",
       "    }\n",
       "</style>\n",
       "<table border=\"1\" class=\"dataframe\">\n",
       "  <thead>\n",
       "    <tr style=\"text-align: right;\">\n",
       "      <th></th>\n",
       "      <th>car_ID</th>\n",
       "      <th>symboling</th>\n",
       "      <th>CarName</th>\n",
       "      <th>fueltype</th>\n",
       "      <th>aspiration</th>\n",
       "      <th>doornumber</th>\n",
       "      <th>carbody</th>\n",
       "      <th>drivewheel</th>\n",
       "      <th>enginelocation</th>\n",
       "      <th>wheelbase</th>\n",
       "      <th>...</th>\n",
       "      <th>enginesize</th>\n",
       "      <th>fuelsystem</th>\n",
       "      <th>boreratio</th>\n",
       "      <th>stroke</th>\n",
       "      <th>compressionratio</th>\n",
       "      <th>horsepower</th>\n",
       "      <th>peakrpm</th>\n",
       "      <th>citympg</th>\n",
       "      <th>highwaympg</th>\n",
       "      <th>price</th>\n",
       "    </tr>\n",
       "  </thead>\n",
       "  <tbody>\n",
       "    <tr>\n",
       "      <th>0</th>\n",
       "      <td>1</td>\n",
       "      <td>3</td>\n",
       "      <td>alfa-romero giulia</td>\n",
       "      <td>gas</td>\n",
       "      <td>std</td>\n",
       "      <td>two</td>\n",
       "      <td>convertible</td>\n",
       "      <td>rwd</td>\n",
       "      <td>front</td>\n",
       "      <td>88.6</td>\n",
       "      <td>...</td>\n",
       "      <td>130</td>\n",
       "      <td>mpfi</td>\n",
       "      <td>3.47</td>\n",
       "      <td>2.68</td>\n",
       "      <td>9.0</td>\n",
       "      <td>111</td>\n",
       "      <td>5000</td>\n",
       "      <td>21</td>\n",
       "      <td>27</td>\n",
       "      <td>13495.0</td>\n",
       "    </tr>\n",
       "    <tr>\n",
       "      <th>1</th>\n",
       "      <td>2</td>\n",
       "      <td>3</td>\n",
       "      <td>alfa-romero stelvio</td>\n",
       "      <td>gas</td>\n",
       "      <td>std</td>\n",
       "      <td>two</td>\n",
       "      <td>convertible</td>\n",
       "      <td>rwd</td>\n",
       "      <td>front</td>\n",
       "      <td>88.6</td>\n",
       "      <td>...</td>\n",
       "      <td>130</td>\n",
       "      <td>mpfi</td>\n",
       "      <td>3.47</td>\n",
       "      <td>2.68</td>\n",
       "      <td>9.0</td>\n",
       "      <td>111</td>\n",
       "      <td>5000</td>\n",
       "      <td>21</td>\n",
       "      <td>27</td>\n",
       "      <td>16500.0</td>\n",
       "    </tr>\n",
       "    <tr>\n",
       "      <th>2</th>\n",
       "      <td>3</td>\n",
       "      <td>1</td>\n",
       "      <td>alfa-romero Quadrifoglio</td>\n",
       "      <td>gas</td>\n",
       "      <td>std</td>\n",
       "      <td>two</td>\n",
       "      <td>hatchback</td>\n",
       "      <td>rwd</td>\n",
       "      <td>front</td>\n",
       "      <td>94.5</td>\n",
       "      <td>...</td>\n",
       "      <td>152</td>\n",
       "      <td>mpfi</td>\n",
       "      <td>2.68</td>\n",
       "      <td>3.47</td>\n",
       "      <td>9.0</td>\n",
       "      <td>154</td>\n",
       "      <td>5000</td>\n",
       "      <td>19</td>\n",
       "      <td>26</td>\n",
       "      <td>16500.0</td>\n",
       "    </tr>\n",
       "    <tr>\n",
       "      <th>3</th>\n",
       "      <td>4</td>\n",
       "      <td>2</td>\n",
       "      <td>audi 100 ls</td>\n",
       "      <td>gas</td>\n",
       "      <td>std</td>\n",
       "      <td>four</td>\n",
       "      <td>sedan</td>\n",
       "      <td>fwd</td>\n",
       "      <td>front</td>\n",
       "      <td>99.8</td>\n",
       "      <td>...</td>\n",
       "      <td>109</td>\n",
       "      <td>mpfi</td>\n",
       "      <td>3.19</td>\n",
       "      <td>3.40</td>\n",
       "      <td>10.0</td>\n",
       "      <td>102</td>\n",
       "      <td>5500</td>\n",
       "      <td>24</td>\n",
       "      <td>30</td>\n",
       "      <td>13950.0</td>\n",
       "    </tr>\n",
       "    <tr>\n",
       "      <th>4</th>\n",
       "      <td>5</td>\n",
       "      <td>2</td>\n",
       "      <td>audi 100ls</td>\n",
       "      <td>gas</td>\n",
       "      <td>std</td>\n",
       "      <td>four</td>\n",
       "      <td>sedan</td>\n",
       "      <td>4wd</td>\n",
       "      <td>front</td>\n",
       "      <td>99.4</td>\n",
       "      <td>...</td>\n",
       "      <td>136</td>\n",
       "      <td>mpfi</td>\n",
       "      <td>3.19</td>\n",
       "      <td>3.40</td>\n",
       "      <td>8.0</td>\n",
       "      <td>115</td>\n",
       "      <td>5500</td>\n",
       "      <td>18</td>\n",
       "      <td>22</td>\n",
       "      <td>17450.0</td>\n",
       "    </tr>\n",
       "    <tr>\n",
       "      <th>...</th>\n",
       "      <td>...</td>\n",
       "      <td>...</td>\n",
       "      <td>...</td>\n",
       "      <td>...</td>\n",
       "      <td>...</td>\n",
       "      <td>...</td>\n",
       "      <td>...</td>\n",
       "      <td>...</td>\n",
       "      <td>...</td>\n",
       "      <td>...</td>\n",
       "      <td>...</td>\n",
       "      <td>...</td>\n",
       "      <td>...</td>\n",
       "      <td>...</td>\n",
       "      <td>...</td>\n",
       "      <td>...</td>\n",
       "      <td>...</td>\n",
       "      <td>...</td>\n",
       "      <td>...</td>\n",
       "      <td>...</td>\n",
       "      <td>...</td>\n",
       "    </tr>\n",
       "    <tr>\n",
       "      <th>200</th>\n",
       "      <td>201</td>\n",
       "      <td>-1</td>\n",
       "      <td>volvo 145e (sw)</td>\n",
       "      <td>gas</td>\n",
       "      <td>std</td>\n",
       "      <td>four</td>\n",
       "      <td>sedan</td>\n",
       "      <td>rwd</td>\n",
       "      <td>front</td>\n",
       "      <td>109.1</td>\n",
       "      <td>...</td>\n",
       "      <td>141</td>\n",
       "      <td>mpfi</td>\n",
       "      <td>3.78</td>\n",
       "      <td>3.15</td>\n",
       "      <td>9.5</td>\n",
       "      <td>114</td>\n",
       "      <td>5400</td>\n",
       "      <td>23</td>\n",
       "      <td>28</td>\n",
       "      <td>16845.0</td>\n",
       "    </tr>\n",
       "    <tr>\n",
       "      <th>201</th>\n",
       "      <td>202</td>\n",
       "      <td>-1</td>\n",
       "      <td>volvo 144ea</td>\n",
       "      <td>gas</td>\n",
       "      <td>turbo</td>\n",
       "      <td>four</td>\n",
       "      <td>sedan</td>\n",
       "      <td>rwd</td>\n",
       "      <td>front</td>\n",
       "      <td>109.1</td>\n",
       "      <td>...</td>\n",
       "      <td>141</td>\n",
       "      <td>mpfi</td>\n",
       "      <td>3.78</td>\n",
       "      <td>3.15</td>\n",
       "      <td>8.7</td>\n",
       "      <td>160</td>\n",
       "      <td>5300</td>\n",
       "      <td>19</td>\n",
       "      <td>25</td>\n",
       "      <td>19045.0</td>\n",
       "    </tr>\n",
       "    <tr>\n",
       "      <th>202</th>\n",
       "      <td>203</td>\n",
       "      <td>-1</td>\n",
       "      <td>volvo 244dl</td>\n",
       "      <td>gas</td>\n",
       "      <td>std</td>\n",
       "      <td>four</td>\n",
       "      <td>sedan</td>\n",
       "      <td>rwd</td>\n",
       "      <td>front</td>\n",
       "      <td>109.1</td>\n",
       "      <td>...</td>\n",
       "      <td>173</td>\n",
       "      <td>mpfi</td>\n",
       "      <td>3.58</td>\n",
       "      <td>2.87</td>\n",
       "      <td>8.8</td>\n",
       "      <td>134</td>\n",
       "      <td>5500</td>\n",
       "      <td>18</td>\n",
       "      <td>23</td>\n",
       "      <td>21485.0</td>\n",
       "    </tr>\n",
       "    <tr>\n",
       "      <th>203</th>\n",
       "      <td>204</td>\n",
       "      <td>-1</td>\n",
       "      <td>volvo 246</td>\n",
       "      <td>diesel</td>\n",
       "      <td>turbo</td>\n",
       "      <td>four</td>\n",
       "      <td>sedan</td>\n",
       "      <td>rwd</td>\n",
       "      <td>front</td>\n",
       "      <td>109.1</td>\n",
       "      <td>...</td>\n",
       "      <td>145</td>\n",
       "      <td>idi</td>\n",
       "      <td>3.01</td>\n",
       "      <td>3.40</td>\n",
       "      <td>23.0</td>\n",
       "      <td>106</td>\n",
       "      <td>4800</td>\n",
       "      <td>26</td>\n",
       "      <td>27</td>\n",
       "      <td>22470.0</td>\n",
       "    </tr>\n",
       "    <tr>\n",
       "      <th>204</th>\n",
       "      <td>205</td>\n",
       "      <td>-1</td>\n",
       "      <td>volvo 264gl</td>\n",
       "      <td>gas</td>\n",
       "      <td>turbo</td>\n",
       "      <td>four</td>\n",
       "      <td>sedan</td>\n",
       "      <td>rwd</td>\n",
       "      <td>front</td>\n",
       "      <td>109.1</td>\n",
       "      <td>...</td>\n",
       "      <td>141</td>\n",
       "      <td>mpfi</td>\n",
       "      <td>3.78</td>\n",
       "      <td>3.15</td>\n",
       "      <td>9.5</td>\n",
       "      <td>114</td>\n",
       "      <td>5400</td>\n",
       "      <td>19</td>\n",
       "      <td>25</td>\n",
       "      <td>22625.0</td>\n",
       "    </tr>\n",
       "  </tbody>\n",
       "</table>\n",
       "<p>205 rows × 26 columns</p>\n",
       "</div>"
      ],
      "text/plain": [
       "     car_ID  symboling                   CarName fueltype aspiration  \\\n",
       "0         1          3        alfa-romero giulia      gas        std   \n",
       "1         2          3       alfa-romero stelvio      gas        std   \n",
       "2         3          1  alfa-romero Quadrifoglio      gas        std   \n",
       "3         4          2               audi 100 ls      gas        std   \n",
       "4         5          2                audi 100ls      gas        std   \n",
       "..      ...        ...                       ...      ...        ...   \n",
       "200     201         -1           volvo 145e (sw)      gas        std   \n",
       "201     202         -1               volvo 144ea      gas      turbo   \n",
       "202     203         -1               volvo 244dl      gas        std   \n",
       "203     204         -1                 volvo 246   diesel      turbo   \n",
       "204     205         -1               volvo 264gl      gas      turbo   \n",
       "\n",
       "    doornumber      carbody drivewheel enginelocation  wheelbase  ...  \\\n",
       "0          two  convertible        rwd          front       88.6  ...   \n",
       "1          two  convertible        rwd          front       88.6  ...   \n",
       "2          two    hatchback        rwd          front       94.5  ...   \n",
       "3         four        sedan        fwd          front       99.8  ...   \n",
       "4         four        sedan        4wd          front       99.4  ...   \n",
       "..         ...          ...        ...            ...        ...  ...   \n",
       "200       four        sedan        rwd          front      109.1  ...   \n",
       "201       four        sedan        rwd          front      109.1  ...   \n",
       "202       four        sedan        rwd          front      109.1  ...   \n",
       "203       four        sedan        rwd          front      109.1  ...   \n",
       "204       four        sedan        rwd          front      109.1  ...   \n",
       "\n",
       "     enginesize  fuelsystem  boreratio  stroke compressionratio horsepower  \\\n",
       "0           130        mpfi       3.47    2.68              9.0        111   \n",
       "1           130        mpfi       3.47    2.68              9.0        111   \n",
       "2           152        mpfi       2.68    3.47              9.0        154   \n",
       "3           109        mpfi       3.19    3.40             10.0        102   \n",
       "4           136        mpfi       3.19    3.40              8.0        115   \n",
       "..          ...         ...        ...     ...              ...        ...   \n",
       "200         141        mpfi       3.78    3.15              9.5        114   \n",
       "201         141        mpfi       3.78    3.15              8.7        160   \n",
       "202         173        mpfi       3.58    2.87              8.8        134   \n",
       "203         145         idi       3.01    3.40             23.0        106   \n",
       "204         141        mpfi       3.78    3.15              9.5        114   \n",
       "\n",
       "     peakrpm citympg  highwaympg    price  \n",
       "0       5000      21          27  13495.0  \n",
       "1       5000      21          27  16500.0  \n",
       "2       5000      19          26  16500.0  \n",
       "3       5500      24          30  13950.0  \n",
       "4       5500      18          22  17450.0  \n",
       "..       ...     ...         ...      ...  \n",
       "200     5400      23          28  16845.0  \n",
       "201     5300      19          25  19045.0  \n",
       "202     5500      18          23  21485.0  \n",
       "203     4800      26          27  22470.0  \n",
       "204     5400      19          25  22625.0  \n",
       "\n",
       "[205 rows x 26 columns]"
      ]
     },
     "execution_count": 5,
     "metadata": {},
     "output_type": "execute_result"
    }
   ],
   "source": [
    "car_price_df"
   ]
  },
  {
   "cell_type": "markdown",
   "id": "3b2eb791",
   "metadata": {},
   "source": [
    "<b> 1.1 Plot the distribution of the following features as a small multiple of histograms. </b>\n",
    "1. carlength \n",
    "2. carwidth\n",
    "3. stroke \n",
    "4. curbweight\n",
    "\n",
    "<b></b>"
   ]
  },
  {
   "cell_type": "code",
   "execution_count": 6,
   "id": "07a5016e",
   "metadata": {},
   "outputs": [
    {
     "data": {
      "image/png": "[encoded data removed]",
      "text/plain": [
       "<Figure size 1080x360 with 4 Axes>"
      ]
     },
     "metadata": {
      "needs_background": "light"
     },
     "output_type": "display_data"
    }
   ],
   "source": [
    "### Code here\n",
    "fig, (ax1, ax2, ax3, ax4) = plt.subplots(1, 4, figsize=(15, 5))\n",
    "\n",
    "ax1.hist(car_price_df['carlength'])\n",
    "ax1.set_xlabel('Car Length')\n",
    "ax1.set_ylabel('Count')\n",
    "ax1.set_title('Car Length Distribution')\n",
    "\n",
    "ax2.hist(car_price_df['carwidth'])\n",
    "ax2.set_xlabel('Car Width')\n",
    "ax2.set_ylabel('Count')\n",
    "ax2.set_title('Car Width Distribution')\n",
    "\n",
    "ax3.hist(car_price_df['stroke'])\n",
    "ax3.set_xlabel('Stroke')\n",
    "ax3.set_ylabel('Count')\n",
    "ax3.set_title('Stroke Distribution')\n",
    "\n",
    "ax4.hist(car_price_df['curbweight'])\n",
    "ax4.set_xlabel('Curbweight')\n",
    "ax4.set_ylabel('Count')\n",
    "ax4.set_title('Curbweight Distribution')\n",
    "\n",
    "plt.show()"
   ]
  },
  {
   "cell_type": "markdown",
   "id": "e3a644ad",
   "metadata": {},
   "source": [
    "<b> 1.2 Plot a small multiple of bar charts to understand data distribution of the following categorical variables </b>\n",
    "1. fueltype \n",
    "2. drivewheel\n",
    "3. enginelocation\n"
   ]
  },
  {
   "cell_type": "code",
   "execution_count": 7,
   "id": "9dbf14aa",
   "metadata": {},
   "outputs": [
    {
     "data": {
      "image/png": "[encoded data removed]",
      "text/plain": [
       "<Figure size 1080x360 with 3 Axes>"
      ]
     },
     "metadata": {
      "needs_background": "light"
     },
     "output_type": "display_data"
    }
   ],
   "source": [
    "### Code here\n",
    "fig, (ax1, ax2, ax3) = plt.subplots(1, 3, figsize=(15, 5))\n",
    "\n",
    "ax1.bar(car_price_df['fueltype'].value_counts().index,car_price_df['fueltype'].value_counts())\n",
    "ax1.set_xlabel('Fuel type')\n",
    "ax1.set_ylabel('Count')\n",
    "ax1.set_title('Fuel type Distribution')\n",
    "\n",
    "ax2.bar(car_price_df['drivewheel'].value_counts().index,car_price_df['drivewheel'].value_counts())\n",
    "ax2.set_xlabel('Drive wheel')\n",
    "ax2.set_ylabel('Count')\n",
    "ax2.set_title('Drive wheel Distribution')\n",
    "\n",
    "ax3.bar(car_price_df['enginelocation'].value_counts().index,car_price_df['enginelocation'].value_counts())\n",
    "ax3.set_xlabel('Engine location')\n",
    "ax3.set_ylabel('Count')\n",
    "ax3.set_title('Engine location Distribution')\n",
    "\n",
    "plt.show()"
   ]
  },
  {
   "cell_type": "markdown",
   "id": "5ba00d88",
   "metadata": {},
   "source": [
    "<b> 1.3 Plot relationships between the following features and the target variable <em>price</em> as a small multiple of boxplots. </b>\n",
    "1. cylindernumber \n",
    "2. enginetype\n",
    "\n",
    "<b> Note: Make sure to order the x-axis labels in increasing order for cylindernumber. </b>"
   ]
  },
  {
   "cell_type": "code",
   "execution_count": 8,
   "id": "10972818",
   "metadata": {},
   "outputs": [
    {
     "data": {
      "image/png": "[encoded data removed]",
      "text/plain": [
       "<Figure size 432x288 with 1 Axes>"
      ]
     },
     "metadata": {
      "needs_background": "light"
     },
     "output_type": "display_data"
    }
   ],
   "source": [
    "### Code here\n",
    "sns.boxplot(x = car_price_df['cylindernumber'],\n",
    "            y = car_price_df['price'], order = ['two','three','four','five','six','eight','twelve']).set(\n",
    "                xlabel='Cylinder number', \n",
    "                ylabel='Price',\n",
    "                title='Relationship Between Cylinder number and Price'\n",
    "            )\n",
    "\n",
    "plt.show()"
   ]
  },
  {
   "cell_type": "code",
   "execution_count": 9,
   "id": "a38e690c",
   "metadata": {},
   "outputs": [
    {
     "data": {
      "image/png": "[encoded data removed]",
      "text/plain": [
       "<Figure size 432x288 with 1 Axes>"
      ]
     },
     "metadata": {
      "needs_background": "light"
     },
     "output_type": "display_data"
    }
   ],
   "source": [
    "sns.boxplot(x = car_price_df['enginetype'],\n",
    "            y = car_price_df['price']).set(\n",
    "                xlabel='Engine type', \n",
    "                ylabel='Price',\n",
    "                title='Relationship Between Engine type and Price'\n",
    "            )\n",
    "\n",
    "plt.show()"
   ]
  },
  {
   "cell_type": "markdown",
   "id": "9a0d1501",
   "metadata": {},
   "source": [
    "<b> 1.4 What do you infer from the visualization above. Comment on the skewness of the distributions (histograms), class imbalance (bar charts), and relationship between categories and price of the car (boxplots). </b>"
   ]
  },
  {
   "cell_type": "markdown",
   "id": "8a24675f",
   "metadata": {},
   "source": [
    "#### Comment here\n",
    "as for skewness, the car width and curb weight distributions are positively skewed, the stroke distribution is negatively skewed and the distribution of car length is rather balanced.\n",
    "\n",
    "as for class imbalance, the three class data like fuel type, engine location and drive wheel all are imbalanced, especially for fuel type and engine location.\n",
    "\n",
    "as for relationship, the cylinder number has positive linear relationship with price and the engine type has little linear relationship with price. the former one is more obvious."
   ]
  },
  {
   "cell_type": "markdown",
   "id": "9239fbb2",
   "metadata": {},
   "source": [
    "------------------------------------------------------------------------------------------------------------------"
   ]
  },
  {
   "cell_type": "markdown",
   "id": "3367d474",
   "metadata": {},
   "source": [
    "## Part 2: Linear Models for Regression and Classification\n",
    "\n",
    "In this section, we will be implementing three linear models **linear regression, logistic regression, and SVM**. We will see that despite some of their differences at the surface, these linear models (and many machine learning models in general) are fundamentally doing the same thing - that is, optimizing model parameters to minimize a loss function on data."
   ]
  },
  {
   "attachments": {
    "images.jpg": {
     "image/jpeg": "[encoded data removed]"
    }
   },
   "cell_type": "markdown",
   "id": "cab447e3",
   "metadata": {},
   "source": [
    "### 2.1 Linear Regression\n",
    "![images.jpg](attachment:images.jpg)\n",
    "\n"
   ]
  },
  {
   "cell_type": "markdown",
   "id": "45bef189",
   "metadata": {},
   "source": [
    "In part 1, we will use two datasets - synthetic and Car Price to train and evaluate our linear regression model.\n",
    "\n",
    "### Synthetic Data\n",
    "\n",
    "<b>2.1.1 Generate 100 samples of synthetic data using the following equations. </b>\n",
    "\n",
    "$ \\epsilon ∼ \\mathcal{N}(0,4) $\n",
    "\n",
    "$ y = 7x - 8 + \\epsilon $\n",
    "\n",
    "You may use [np.random.normal()](https://numpy.org/doc/stable/reference/random/generated/numpy.random.normal.html) for generating $\\epsilon$. "
   ]
  },
  {
   "cell_type": "code",
   "execution_count": 11,
   "id": "10239bb5",
   "metadata": {},
   "outputs": [],
   "source": [
    "np.random.seed(0)\n",
    "X = np.linspace(0, 15, 100)\n",
    "epsilon = np.random.normal(0,4,100)\n",
    "y = 7*X - 8 + epsilon"
   ]
  },
  {
   "cell_type": "markdown",
   "id": "b9e4653a",
   "metadata": {},
   "source": [
    "To apply linear regression, we need to first check if the assumptions of linear regression are not violated.\n",
    "\n",
    "Assumptions of Linear Regression:\n",
    "\n",
    "*   Linearity:  is a linear (technically affine) function of $x$.\n",
    "*   Independence: the $x$'s are independently drawn, and not dependent on each other.\n",
    "*   Homoscedasticity: the $\\epsilon$'s, and thus the $y$'s, have constant variance.\n",
    "*   Normality: the $\\epsilon$'s are drawn from a Normal distribution (i.e. Normally-distributed errors)\n",
    "\n",
    "These properties, as well as the simplicity of this dataset, will make it a good test case to check if our linear regression model is working properly."
   ]
  },
  {
   "cell_type": "markdown",
   "id": "792aa17e",
   "metadata": {},
   "source": [
    "**2.1.2 Plot y vs X in the synthetic dataset as a scatter plot. Label your axes and make sure your y-axis starts from 0. Do the features have linear relationship?**"
   ]
  },
  {
   "cell_type": "code",
   "execution_count": 12,
   "id": "a336a551",
   "metadata": {},
   "outputs": [
    {
     "data": {
      "image/png": "[encoded data removed]",
      "text/plain": [
       "<Figure size 432x288 with 1 Axes>"
      ]
     },
     "metadata": {
      "needs_background": "light"
     },
     "output_type": "display_data"
    }
   ],
   "source": [
    "### Code here\n",
    "\n",
    "fig, ax = plt.subplots()\n",
    "\n",
    "ax.scatter(X, y)\n",
    "ax.set_title('Relationship between y vs x')\n",
    "ax.set_xlabel('x')\n",
    "ax.set_ylabel('y')\n",
    "\n",
    "plt.show()"
   ]
  },
  {
   "cell_type": "markdown",
   "id": "af829041",
   "metadata": {},
   "source": [
    "#### Comment here\n",
    "\n",
    "we could consider there is strong positive linear relationship between x and y"
   ]
  },
  {
   "cell_type": "markdown",
   "id": "3a11537d",
   "metadata": {},
   "source": [
    "### Car Price Prediction Dataset\n",
    "\n",
    "The objective of this dataset is to predict the price of a car based on its characterisitics. We will use linear regression to predict the price using its features. "
   ]
  },
  {
   "cell_type": "code",
   "execution_count": 14,
   "id": "c24099b1",
   "metadata": {},
   "outputs": [],
   "source": [
    "# split data into features and labels\n",
    "car_price_X = car_price_df.drop(columns=['price'])\n",
    "car_price_y = car_price_df['price']"
   ]
  },
  {
   "cell_type": "markdown",
   "id": "0d3a72d0",
   "metadata": {},
   "source": [
    "**2.1.3 Plot the relationships between the label (price) and the continuous features (citympg, highwaympg, enginesize, horsepower) using a small multiple of scatter plots. Make sure to label the axes.**"
   ]
  },
  {
   "cell_type": "code",
   "execution_count": 15,
   "id": "152bfb7c",
   "metadata": {},
   "outputs": [
    {
     "data": {
      "image/png": "[encoded data removed]",
      "text/plain": [
       "<Figure size 1656x504 with 4 Axes>"
      ]
     },
     "metadata": {
      "needs_background": "light"
     },
     "output_type": "display_data"
    }
   ],
   "source": [
    "### Code here\n",
    "fig, (ax1, ax2, ax3, ax4) = plt.subplots(1, 4, figsize=(23, 7))\n",
    "\n",
    "ax1.scatter(car_price_X['citympg'], car_price_y)\n",
    "ax1.set_xlabel('City mpg')\n",
    "ax1.set_ylabel('Price')\n",
    "ax1.set_title('Price vs City mpg')\n",
    "\n",
    "ax2.scatter(car_price_X['highwaympg'], car_price_y)\n",
    "ax2.set_xlabel('Highway mpg')\n",
    "ax2.set_ylabel('Price')\n",
    "ax2.set_title('Price vs Highway mpg')\n",
    "\n",
    "ax3.scatter(car_price_X['enginesize'], car_price_y)\n",
    "ax3.set_xlabel('Engine size')\n",
    "ax3.set_ylabel('Price')\n",
    "ax3.set_title('Price vs Engine size')\n",
    "\n",
    "ax4.scatter(car_price_X['horsepower'], car_price_y)\n",
    "ax4.set_xlabel('Acceleration')\n",
    "ax4.set_ylabel('Price')\n",
    "ax4.set_title('Price vs Acceleration')\n",
    "\n",
    "plt.show()"
   ]
  },
  {
   "cell_type": "markdown",
   "id": "a5d505b8",
   "metadata": {},
   "source": [
    "**2.1.4 From the visualizations above, do you think linear regression is a good model for this problem? Why and/or why not? Please explain.**"
   ]
  },
  {
   "cell_type": "markdown",
   "id": "19fbe326",
   "metadata": {},
   "source": [
    "#### Comment here\n",
    "    \n",
    "as for the linear regression model, the features such as city mpg, highway mpg have negative linear relationship with price and the features such as engine size and acceleration have positive relationship with price. we could use linear model, but the linear regression model is not a good one since there are many outliers."
   ]
  },
  {
   "cell_type": "markdown",
   "id": "68fa093e",
   "metadata": {},
   "source": [
    "### Data Preprocessing\n",
    "\n",
    "Before we can fit a linear regression model, there are several pre-processing steps we should apply to the datasets:\n",
    "\n",
    "1. Encode categorial features appropriately.\n",
    "2. Remove highly collinear features by reading the correlation plot.\n",
    "3. Split the dataset into training (60%), validation (20%), and test (20%) sets.\n",
    "4. Standardize the columns in the feature matrices X_train, X_val, and X_test to have zero mean and unit variance. To avoid information leakage, learn the standardization parameters (mean, variance) from X_train, and apply it to X_train, X_val, and X_test.\n",
    "5. Add a column of ones to the feature matrices X_train, X_val, and X_test. This is a common trick so that we can learn a coefficient for the bias term of a linear model.\n",
    "\n",
    "The processing steps on the synthetic dataset have been provided for you below as a reference:\n",
    "\n",
    "**Note: Generate the synthetic data before running the next cell to avoid errors.**\n"
   ]
  },
  {
   "cell_type": "code",
   "execution_count": 17,
   "id": "8492d5af",
   "metadata": {},
   "outputs": [
    {
     "name": "stdout",
     "output_type": "stream",
     "text": [
      "[[ 1.          0.53651502]\n",
      " [ 1.         -1.00836082]\n",
      " [ 1.         -0.72094206]\n",
      " [ 1.         -0.25388657]\n",
      " [ 1.          0.64429705]] \n",
      "\n",
      " [55.47920661 13.42527931 26.39143796 36.62805794 65.38959977]\n"
     ]
    }
   ],
   "source": [
    "X = X.reshape((100, 1))   # Turn the X vector into a feature matrix X\n",
    "\n",
    "# 1. No categorical features in the synthetic dataset (skip this step)\n",
    "\n",
    "# 2. Only one feature vector\n",
    "\n",
    "# 3. Split the dataset into training (60%), validation (20%), and test (20%) sets\n",
    "X_dev, X_test, y_dev, y_test = train_test_split(X, y, test_size=0.2, random_state=0)\n",
    "X_train, X_val, y_train, y_val = train_test_split(X_dev, y_dev, test_size=0.25, random_state=0)\n",
    "\n",
    "# 4. Standardize the columns in the feature matrices\n",
    "scaler = StandardScaler()\n",
    "X_train = scaler.fit_transform(X_train)   # Fit and transform scalar on X_train\n",
    "X_val = scaler.transform(X_val)           # Transform X_val\n",
    "X_test = scaler.transform(X_test)         # Transform X_test\n",
    "\n",
    "# 5. Add a column of ones to the feature matrices\n",
    "X_train = np.hstack([np.ones((X_train.shape[0], 1)), X_train])\n",
    "X_val = np.hstack([np.ones((X_val.shape[0], 1)), X_val])\n",
    "X_test = np.hstack([np.ones((X_test.shape[0], 1)), X_test])\n",
    "\n",
    "print(X_train[:5], '\\n\\n', y_train[:5])"
   ]
  },
  {
   "cell_type": "markdown",
   "id": "d6132e0f",
   "metadata": {},
   "source": [
    "**2.1.5 Encode the categorical variables of the CarPrice dataset.**"
   ]
  },
  {
   "cell_type": "code",
   "execution_count": 18,
   "id": "afd29a5a",
   "metadata": {},
   "outputs": [
    {
     "name": "stdout",
     "output_type": "stream",
     "text": [
      "<class 'pandas.core.frame.DataFrame'>\n",
      "RangeIndex: 205 entries, 0 to 204\n",
      "Data columns (total 26 columns):\n",
      " #   Column            Non-Null Count  Dtype  \n",
      "---  ------            --------------  -----  \n",
      " 0   car_ID            205 non-null    int64  \n",
      " 1   symboling         205 non-null    int64  \n",
      " 2   CarName           205 non-null    object \n",
      " 3   fueltype          205 non-null    object \n",
      " 4   aspiration        205 non-null    object \n",
      " 5   doornumber        205 non-null    object \n",
      " 6   carbody           205 non-null    object \n",
      " 7   drivewheel        205 non-null    object \n",
      " 8   enginelocation    205 non-null    object \n",
      " 9   wheelbase         205 non-null    float64\n",
      " 10  carlength         205 non-null    float64\n",
      " 11  carwidth          205 non-null    float64\n",
      " 12  carheight         205 non-null    float64\n",
      " 13  curbweight        205 non-null    int64  \n",
      " 14  enginetype        205 non-null    object \n",
      " 15  cylindernumber    205 non-null    object \n",
      " 16  enginesize        205 non-null    int64  \n",
      " 17  fuelsystem        205 non-null    object \n",
      " 18  boreratio         205 non-null    float64\n",
      " 19  stroke            205 non-null    float64\n",
      " 20  compressionratio  205 non-null    float64\n",
      " 21  horsepower        205 non-null    int64  \n",
      " 22  peakrpm           205 non-null    int64  \n",
      " 23  citympg           205 non-null    int64  \n",
      " 24  highwaympg        205 non-null    int64  \n",
      " 25  price             205 non-null    float64\n",
      "dtypes: float64(8), int64(8), object(10)\n",
      "memory usage: 41.8+ KB\n"
     ]
    }
   ],
   "source": [
    "car_price_df.info()"
   ]
  },
  {
   "cell_type": "code",
   "execution_count": 19,
   "id": "be8a2941",
   "metadata": {},
   "outputs": [],
   "source": [
    "### Code here\n",
    "\n",
    "for i in ['fueltype','aspiration','doornumber','carbody','drivewheel',\n",
    "          'enginelocation','enginetype','cylindernumber','fuelsystem']:\n",
    "    enc = OrdinalEncoder(categories = [car_price_df[i].unique()])\n",
    "    car_price_df[i+'_ord'] = enc.fit_transform(car_price_df[i].to_numpy().reshape(-1,1))\n",
    "    "
   ]
  },
  {
   "cell_type": "markdown",
   "id": "41176bd0",
   "metadata": {},
   "source": [
    "**2.1.6 Plot the correlation matrix, and check if there is high correlation between the given numerical features (Threshold >=0.9). If yes, drop one from each pair of highly correlated features from the dataframe. Why is necessary to drop those columns before proceeding further?**"
   ]
  },
  {
   "cell_type": "code",
   "execution_count": 20,
   "id": "40544c43",
   "metadata": {},
   "outputs": [
    {
     "name": "stdout",
     "output_type": "stream",
     "text": [
      "(205, 33)\n"
     ]
    }
   ],
   "source": [
    "### Code here\n",
    "car_price_X = car_price_df.drop(columns=['price','car_ID'])\n",
    "car_price_y = car_price_df['price']\n",
    "print(car_price_X.shape)"
   ]
  },
  {
   "cell_type": "code",
   "execution_count": 21,
   "id": "8eb15204",
   "metadata": {},
   "outputs": [
    {
     "data": {
      "image/png": "[encoded data removed]",
      "text/plain": [
       "<Figure size 432x288 with 2 Axes>"
      ]
     },
     "metadata": {
      "needs_background": "light"
     },
     "output_type": "display_data"
    }
   ],
   "source": [
    "corr = car_price_X.corr()\n",
    "sns.heatmap(corr, annot=False)\n",
    "plt.xlabel('Feature')\n",
    "plt.ylabel('Feature')\n",
    "plt.title('Correlation Matrix between Features in Car Price Dataset')\n",
    "plt.show()"
   ]
  },
  {
   "cell_type": "code",
   "execution_count": 22,
   "id": "df10589c",
   "metadata": {},
   "outputs": [
    {
     "name": "stdout",
     "output_type": "stream",
     "text": [
      "Features to drop: ['highwaympg', 'fueltype_ord']\n"
     ]
    },
    {
     "name": "stderr",
     "output_type": "stream",
     "text": [
      "/var/folders/4t/xrgyjzp96fb4dmgw0wrydtrm0000gn/T/ipykernel_99812/373653683.py:1: DeprecationWarning: `np.bool` is a deprecated alias for the builtin `bool`. To silence this warning, use `bool` by itself. Doing this will not modify any behavior and is safe. If you specifically wanted the numpy scalar type, use `np.bool_` here.\n",
      "Deprecated in NumPy 1.20; for more details and guidance: https://numpy.org/devdocs/release/1.20.0-notes.html#deprecations\n",
      "  upper_tri = corr.where(np.triu(np.ones(corr.shape),k=1).astype(np.bool))\n"
     ]
    }
   ],
   "source": [
    "upper_tri = corr.where(np.triu(np.ones(corr.shape),k=1).astype(np.bool))\n",
    "to_drop = [column for column in upper_tri.columns if any(upper_tri[column] > 0.9)]\n",
    "print('Features to drop:', to_drop)\n",
    "car_price_new = car_price_df.drop(columns=to_drop)"
   ]
  },
  {
   "cell_type": "code",
   "execution_count": 23,
   "id": "ba4824ae",
   "metadata": {},
   "outputs": [],
   "source": [
    "car_price_new = car_price_new.drop(columns = ['fueltype','aspiration','doornumber','carbody','drivewheel',\n",
    "          'enginelocation','enginetype','cylindernumber','fuelsystem'])"
   ]
  },
  {
   "cell_type": "code",
   "execution_count": 24,
   "id": "25158664",
   "metadata": {},
   "outputs": [
    {
     "data": {
      "text/html": [
       "<div>\n",
       "<style scoped>\n",
       "    .dataframe tbody tr th:only-of-type {\n",
       "        vertical-align: middle;\n",
       "    }\n",
       "\n",
       "    .dataframe tbody tr th {\n",
       "        vertical-align: top;\n",
       "    }\n",
       "\n",
       "    .dataframe thead th {\n",
       "        text-align: right;\n",
       "    }\n",
       "</style>\n",
       "<table border=\"1\" class=\"dataframe\">\n",
       "  <thead>\n",
       "    <tr style=\"text-align: right;\">\n",
       "      <th></th>\n",
       "      <th>car_ID</th>\n",
       "      <th>symboling</th>\n",
       "      <th>CarName</th>\n",
       "      <th>wheelbase</th>\n",
       "      <th>carlength</th>\n",
       "      <th>carwidth</th>\n",
       "      <th>carheight</th>\n",
       "      <th>curbweight</th>\n",
       "      <th>enginesize</th>\n",
       "      <th>boreratio</th>\n",
       "      <th>...</th>\n",
       "      <th>citympg</th>\n",
       "      <th>price</th>\n",
       "      <th>aspiration_ord</th>\n",
       "      <th>doornumber_ord</th>\n",
       "      <th>carbody_ord</th>\n",
       "      <th>drivewheel_ord</th>\n",
       "      <th>enginelocation_ord</th>\n",
       "      <th>enginetype_ord</th>\n",
       "      <th>cylindernumber_ord</th>\n",
       "      <th>fuelsystem_ord</th>\n",
       "    </tr>\n",
       "  </thead>\n",
       "  <tbody>\n",
       "    <tr>\n",
       "      <th>0</th>\n",
       "      <td>1</td>\n",
       "      <td>3</td>\n",
       "      <td>alfa-romero giulia</td>\n",
       "      <td>88.6</td>\n",
       "      <td>168.8</td>\n",
       "      <td>64.1</td>\n",
       "      <td>48.8</td>\n",
       "      <td>2548</td>\n",
       "      <td>130</td>\n",
       "      <td>3.47</td>\n",
       "      <td>...</td>\n",
       "      <td>21</td>\n",
       "      <td>13495.0</td>\n",
       "      <td>0.0</td>\n",
       "      <td>0.0</td>\n",
       "      <td>0.0</td>\n",
       "      <td>0.0</td>\n",
       "      <td>0.0</td>\n",
       "      <td>0.0</td>\n",
       "      <td>0.0</td>\n",
       "      <td>0.0</td>\n",
       "    </tr>\n",
       "    <tr>\n",
       "      <th>1</th>\n",
       "      <td>2</td>\n",
       "      <td>3</td>\n",
       "      <td>alfa-romero stelvio</td>\n",
       "      <td>88.6</td>\n",
       "      <td>168.8</td>\n",
       "      <td>64.1</td>\n",
       "      <td>48.8</td>\n",
       "      <td>2548</td>\n",
       "      <td>130</td>\n",
       "      <td>3.47</td>\n",
       "      <td>...</td>\n",
       "      <td>21</td>\n",
       "      <td>16500.0</td>\n",
       "      <td>0.0</td>\n",
       "      <td>0.0</td>\n",
       "      <td>0.0</td>\n",
       "      <td>0.0</td>\n",
       "      <td>0.0</td>\n",
       "      <td>0.0</td>\n",
       "      <td>0.0</td>\n",
       "      <td>0.0</td>\n",
       "    </tr>\n",
       "    <tr>\n",
       "      <th>2</th>\n",
       "      <td>3</td>\n",
       "      <td>1</td>\n",
       "      <td>alfa-romero Quadrifoglio</td>\n",
       "      <td>94.5</td>\n",
       "      <td>171.2</td>\n",
       "      <td>65.5</td>\n",
       "      <td>52.4</td>\n",
       "      <td>2823</td>\n",
       "      <td>152</td>\n",
       "      <td>2.68</td>\n",
       "      <td>...</td>\n",
       "      <td>19</td>\n",
       "      <td>16500.0</td>\n",
       "      <td>0.0</td>\n",
       "      <td>0.0</td>\n",
       "      <td>1.0</td>\n",
       "      <td>0.0</td>\n",
       "      <td>0.0</td>\n",
       "      <td>1.0</td>\n",
       "      <td>1.0</td>\n",
       "      <td>0.0</td>\n",
       "    </tr>\n",
       "    <tr>\n",
       "      <th>3</th>\n",
       "      <td>4</td>\n",
       "      <td>2</td>\n",
       "      <td>audi 100 ls</td>\n",
       "      <td>99.8</td>\n",
       "      <td>176.6</td>\n",
       "      <td>66.2</td>\n",
       "      <td>54.3</td>\n",
       "      <td>2337</td>\n",
       "      <td>109</td>\n",
       "      <td>3.19</td>\n",
       "      <td>...</td>\n",
       "      <td>24</td>\n",
       "      <td>13950.0</td>\n",
       "      <td>0.0</td>\n",
       "      <td>1.0</td>\n",
       "      <td>2.0</td>\n",
       "      <td>1.0</td>\n",
       "      <td>0.0</td>\n",
       "      <td>2.0</td>\n",
       "      <td>0.0</td>\n",
       "      <td>0.0</td>\n",
       "    </tr>\n",
       "    <tr>\n",
       "      <th>4</th>\n",
       "      <td>5</td>\n",
       "      <td>2</td>\n",
       "      <td>audi 100ls</td>\n",
       "      <td>99.4</td>\n",
       "      <td>176.6</td>\n",
       "      <td>66.4</td>\n",
       "      <td>54.3</td>\n",
       "      <td>2824</td>\n",
       "      <td>136</td>\n",
       "      <td>3.19</td>\n",
       "      <td>...</td>\n",
       "      <td>18</td>\n",
       "      <td>17450.0</td>\n",
       "      <td>0.0</td>\n",
       "      <td>1.0</td>\n",
       "      <td>2.0</td>\n",
       "      <td>2.0</td>\n",
       "      <td>0.0</td>\n",
       "      <td>2.0</td>\n",
       "      <td>2.0</td>\n",
       "      <td>0.0</td>\n",
       "    </tr>\n",
       "    <tr>\n",
       "      <th>...</th>\n",
       "      <td>...</td>\n",
       "      <td>...</td>\n",
       "      <td>...</td>\n",
       "      <td>...</td>\n",
       "      <td>...</td>\n",
       "      <td>...</td>\n",
       "      <td>...</td>\n",
       "      <td>...</td>\n",
       "      <td>...</td>\n",
       "      <td>...</td>\n",
       "      <td>...</td>\n",
       "      <td>...</td>\n",
       "      <td>...</td>\n",
       "      <td>...</td>\n",
       "      <td>...</td>\n",
       "      <td>...</td>\n",
       "      <td>...</td>\n",
       "      <td>...</td>\n",
       "      <td>...</td>\n",
       "      <td>...</td>\n",
       "      <td>...</td>\n",
       "    </tr>\n",
       "    <tr>\n",
       "      <th>200</th>\n",
       "      <td>201</td>\n",
       "      <td>-1</td>\n",
       "      <td>volvo 145e (sw)</td>\n",
       "      <td>109.1</td>\n",
       "      <td>188.8</td>\n",
       "      <td>68.9</td>\n",
       "      <td>55.5</td>\n",
       "      <td>2952</td>\n",
       "      <td>141</td>\n",
       "      <td>3.78</td>\n",
       "      <td>...</td>\n",
       "      <td>23</td>\n",
       "      <td>16845.0</td>\n",
       "      <td>0.0</td>\n",
       "      <td>1.0</td>\n",
       "      <td>2.0</td>\n",
       "      <td>0.0</td>\n",
       "      <td>0.0</td>\n",
       "      <td>2.0</td>\n",
       "      <td>0.0</td>\n",
       "      <td>0.0</td>\n",
       "    </tr>\n",
       "    <tr>\n",
       "      <th>201</th>\n",
       "      <td>202</td>\n",
       "      <td>-1</td>\n",
       "      <td>volvo 144ea</td>\n",
       "      <td>109.1</td>\n",
       "      <td>188.8</td>\n",
       "      <td>68.8</td>\n",
       "      <td>55.5</td>\n",
       "      <td>3049</td>\n",
       "      <td>141</td>\n",
       "      <td>3.78</td>\n",
       "      <td>...</td>\n",
       "      <td>19</td>\n",
       "      <td>19045.0</td>\n",
       "      <td>1.0</td>\n",
       "      <td>1.0</td>\n",
       "      <td>2.0</td>\n",
       "      <td>0.0</td>\n",
       "      <td>0.0</td>\n",
       "      <td>2.0</td>\n",
       "      <td>0.0</td>\n",
       "      <td>0.0</td>\n",
       "    </tr>\n",
       "    <tr>\n",
       "      <th>202</th>\n",
       "      <td>203</td>\n",
       "      <td>-1</td>\n",
       "      <td>volvo 244dl</td>\n",
       "      <td>109.1</td>\n",
       "      <td>188.8</td>\n",
       "      <td>68.9</td>\n",
       "      <td>55.5</td>\n",
       "      <td>3012</td>\n",
       "      <td>173</td>\n",
       "      <td>3.58</td>\n",
       "      <td>...</td>\n",
       "      <td>18</td>\n",
       "      <td>21485.0</td>\n",
       "      <td>0.0</td>\n",
       "      <td>1.0</td>\n",
       "      <td>2.0</td>\n",
       "      <td>0.0</td>\n",
       "      <td>0.0</td>\n",
       "      <td>1.0</td>\n",
       "      <td>1.0</td>\n",
       "      <td>0.0</td>\n",
       "    </tr>\n",
       "    <tr>\n",
       "      <th>203</th>\n",
       "      <td>204</td>\n",
       "      <td>-1</td>\n",
       "      <td>volvo 246</td>\n",
       "      <td>109.1</td>\n",
       "      <td>188.8</td>\n",
       "      <td>68.9</td>\n",
       "      <td>55.5</td>\n",
       "      <td>3217</td>\n",
       "      <td>145</td>\n",
       "      <td>3.01</td>\n",
       "      <td>...</td>\n",
       "      <td>26</td>\n",
       "      <td>22470.0</td>\n",
       "      <td>1.0</td>\n",
       "      <td>1.0</td>\n",
       "      <td>2.0</td>\n",
       "      <td>0.0</td>\n",
       "      <td>0.0</td>\n",
       "      <td>2.0</td>\n",
       "      <td>1.0</td>\n",
       "      <td>6.0</td>\n",
       "    </tr>\n",
       "    <tr>\n",
       "      <th>204</th>\n",
       "      <td>205</td>\n",
       "      <td>-1</td>\n",
       "      <td>volvo 264gl</td>\n",
       "      <td>109.1</td>\n",
       "      <td>188.8</td>\n",
       "      <td>68.9</td>\n",
       "      <td>55.5</td>\n",
       "      <td>3062</td>\n",
       "      <td>141</td>\n",
       "      <td>3.78</td>\n",
       "      <td>...</td>\n",
       "      <td>19</td>\n",
       "      <td>22625.0</td>\n",
       "      <td>1.0</td>\n",
       "      <td>1.0</td>\n",
       "      <td>2.0</td>\n",
       "      <td>0.0</td>\n",
       "      <td>0.0</td>\n",
       "      <td>2.0</td>\n",
       "      <td>0.0</td>\n",
       "      <td>0.0</td>\n",
       "    </tr>\n",
       "  </tbody>\n",
       "</table>\n",
       "<p>205 rows × 24 columns</p>\n",
       "</div>"
      ],
      "text/plain": [
       "     car_ID  symboling                   CarName  wheelbase  carlength  \\\n",
       "0         1          3        alfa-romero giulia       88.6      168.8   \n",
       "1         2          3       alfa-romero stelvio       88.6      168.8   \n",
       "2         3          1  alfa-romero Quadrifoglio       94.5      171.2   \n",
       "3         4          2               audi 100 ls       99.8      176.6   \n",
       "4         5          2                audi 100ls       99.4      176.6   \n",
       "..      ...        ...                       ...        ...        ...   \n",
       "200     201         -1           volvo 145e (sw)      109.1      188.8   \n",
       "201     202         -1               volvo 144ea      109.1      188.8   \n",
       "202     203         -1               volvo 244dl      109.1      188.8   \n",
       "203     204         -1                 volvo 246      109.1      188.8   \n",
       "204     205         -1               volvo 264gl      109.1      188.8   \n",
       "\n",
       "     carwidth  carheight  curbweight  enginesize  boreratio  ...  citympg  \\\n",
       "0        64.1       48.8        2548         130       3.47  ...       21   \n",
       "1        64.1       48.8        2548         130       3.47  ...       21   \n",
       "2        65.5       52.4        2823         152       2.68  ...       19   \n",
       "3        66.2       54.3        2337         109       3.19  ...       24   \n",
       "4        66.4       54.3        2824         136       3.19  ...       18   \n",
       "..        ...        ...         ...         ...        ...  ...      ...   \n",
       "200      68.9       55.5        2952         141       3.78  ...       23   \n",
       "201      68.8       55.5        3049         141       3.78  ...       19   \n",
       "202      68.9       55.5        3012         173       3.58  ...       18   \n",
       "203      68.9       55.5        3217         145       3.01  ...       26   \n",
       "204      68.9       55.5        3062         141       3.78  ...       19   \n",
       "\n",
       "       price  aspiration_ord  doornumber_ord  carbody_ord  drivewheel_ord  \\\n",
       "0    13495.0             0.0             0.0          0.0             0.0   \n",
       "1    16500.0             0.0             0.0          0.0             0.0   \n",
       "2    16500.0             0.0             0.0          1.0             0.0   \n",
       "3    13950.0             0.0             1.0          2.0             1.0   \n",
       "4    17450.0             0.0             1.0          2.0             2.0   \n",
       "..       ...             ...             ...          ...             ...   \n",
       "200  16845.0             0.0             1.0          2.0             0.0   \n",
       "201  19045.0             1.0             1.0          2.0             0.0   \n",
       "202  21485.0             0.0             1.0          2.0             0.0   \n",
       "203  22470.0             1.0             1.0          2.0             0.0   \n",
       "204  22625.0             1.0             1.0          2.0             0.0   \n",
       "\n",
       "     enginelocation_ord  enginetype_ord  cylindernumber_ord  fuelsystem_ord  \n",
       "0                   0.0             0.0                 0.0             0.0  \n",
       "1                   0.0             0.0                 0.0             0.0  \n",
       "2                   0.0             1.0                 1.0             0.0  \n",
       "3                   0.0             2.0                 0.0             0.0  \n",
       "4                   0.0             2.0                 2.0             0.0  \n",
       "..                  ...             ...                 ...             ...  \n",
       "200                 0.0             2.0                 0.0             0.0  \n",
       "201                 0.0             2.0                 0.0             0.0  \n",
       "202                 0.0             1.0                 1.0             0.0  \n",
       "203                 0.0             2.0                 1.0             6.0  \n",
       "204                 0.0             2.0                 0.0             0.0  \n",
       "\n",
       "[205 rows x 24 columns]"
      ]
     },
     "execution_count": 24,
     "metadata": {},
     "output_type": "execute_result"
    }
   ],
   "source": [
    "car_price_new"
   ]
  },
  {
   "cell_type": "markdown",
   "id": "3cf811b8",
   "metadata": {},
   "source": [
    "#### Comment here\n",
    "\n",
    "considering the multilinearity, highly correlated features are not independent of each other, so they need to be removed to reduce the complexity of training without bringing any additional information. \n"
   ]
  },
  {
   "cell_type": "markdown",
   "id": "85ce946b",
   "metadata": {},
   "source": [
    "**2.1.7 Split the dataset into training (60%), validation (20%), and test (20%) sets. Use random_state = 0.**"
   ]
  },
  {
   "cell_type": "code",
   "execution_count": 26,
   "id": "0bb947cc",
   "metadata": {},
   "outputs": [],
   "source": [
    "### Code here\n",
    "car_price_new_X = car_price_new.drop(columns = ['CarName','car_ID','price'])\n",
    "car_price_new_y = car_price_new['price']\n",
    "\n",
    "car_price_X_dev, car_price_X_test, car_price_y_dev, car_price_y_test = train_test_split(car_price_new_X, car_price_new_y, test_size=0.2, random_state=0)\n",
    "car_price_X_train, car_price_X_val, car_price_y_train, car_price_y_val = train_test_split(car_price_X_dev, car_price_y_dev, test_size=0.25, random_state=0)\n"
   ]
  },
  {
   "cell_type": "markdown",
   "id": "3b4ca085",
   "metadata": {},
   "source": [
    "**2.1.8 Standardize the columns in the feature matrices.**"
   ]
  },
  {
   "cell_type": "code",
   "execution_count": 27,
   "id": "bc869444",
   "metadata": {},
   "outputs": [],
   "source": [
    "### Code here\n",
    "scaler = StandardScaler()\n",
    "car_price_X_train = scaler.fit_transform(car_price_X_train)   # Fit and transform scalar on X_train\n",
    "car_price_X_val = scaler.transform(car_price_X_val)           # Transform X_val\n",
    "car_price_X_test = scaler.transform(car_price_X_test)         # Transform X_test\n"
   ]
  },
  {
   "cell_type": "markdown",
   "id": "6150f676",
   "metadata": {},
   "source": [
    "**2.1.9 Add a column of ones to the feature matrices for the bias term.**"
   ]
  },
  {
   "cell_type": "code",
   "execution_count": 28,
   "id": "3793f360",
   "metadata": {},
   "outputs": [
    {
     "name": "stdout",
     "output_type": "stream",
     "text": [
      "[[ 1.          0.17546752 -0.40974726 -0.46851364 -0.00339972 -1.15016334\n",
      "  -0.55669184 -0.43428753 -0.66854906  1.03549495 -0.30391923 -0.09942571\n",
      "   0.83916558  0.00909065 -0.49236596 -1.25        0.22451317  0.51671684\n",
      "  -0.12856487 -0.19930603 -0.42269467 -0.27820505]\n",
      " [ 1.          0.17546752  0.75843946  1.19517538  0.41476539  0.71966069\n",
      "   0.89378352  0.82259167 -0.08766405 -0.25186264 -0.32695051  0.44932771\n",
      "  -1.77525606 -0.78958775 -0.49236596  0.8         0.22451317 -1.24873236\n",
      "  -0.12856487 -0.19930603  0.3418854  -0.72261051]\n",
      " [ 1.         -1.48472517  0.89194651  1.17845488  0.55415375  1.43576351\n",
      "   1.08794163  0.03122329  1.03780065 -0.38389932 -0.67241966  1.52070343\n",
      "   0.00255066 -1.26879479  2.0310096   0.8         1.47974592 -1.24873236\n",
      "  -0.12856487 -0.19930603 -0.42269467 -0.72261051]\n",
      " [ 1.         -0.65462882 -0.02591448  0.25882779  0.22891423  0.64009371\n",
      "  -0.33398106 -0.15498104  0.20277846  0.40832074 -0.41907562 -0.51752355\n",
      "  -0.62491054  0.16882633 -0.49236596  0.8         0.22451317  0.51671684\n",
      "  -0.12856487 -0.19930603 -0.42269467 -0.27820505]\n",
      " [ 1.         -0.65462882  1.50941663  1.00288971  1.06524443  0.83901116\n",
      "   1.03654684  0.12432545  1.00149534 -0.18584431 -0.78757605  0.99808113\n",
      "   1.04831931 -1.10905911  2.0310096   0.8         0.22451317 -1.24873236\n",
      "  -0.12856487  0.78127963 -0.42269467 -0.72261051]] \n",
      "\n",
      " 42     10345.0\n",
      "14     24565.0\n",
      "199    18950.0\n",
      "60      8495.0\n",
      "117    18150.0\n",
      "Name: price, dtype: float64\n"
     ]
    }
   ],
   "source": [
    "### Code here\n",
    "car_price_X_train = np.hstack([np.ones((car_price_X_train.shape[0], 1)), car_price_X_train])\n",
    "car_price_X_val = np.hstack([np.ones((car_price_X_val.shape[0], 1)), car_price_X_val])\n",
    "car_price_X_test = np.hstack([np.ones((car_price_X_test.shape[0], 1)), car_price_X_test])\n",
    "\n",
    "print(car_price_X_train[:5], '\\n\\n', car_price_y_train[:5])"
   ]
  },
  {
   "cell_type": "markdown",
   "id": "5f1d84c3",
   "metadata": {},
   "source": [
    "At the end of this pre-processing, you should have the following vectors and matrices: \n",
    "- Syntheic dataset: X_train, X_val, X_test, y_train, y_val, y_test\n",
    "- Car Price Prediction dataset: car_price_X_train, car_price_X_val, car_price_X_test, car_price_y_train, car_price_y_val, car_price_y_test"
   ]
  },
  {
   "cell_type": "markdown",
   "id": "c5593921",
   "metadata": {},
   "source": [
    "### Implement Linear Regression"
   ]
  },
  {
   "cell_type": "markdown",
   "id": "f1a94f7a",
   "metadata": {},
   "source": [
    "Now, we can implement our linear regression model! Specifically, we will be implementing ridge regression, which is linear regression with L2 regularization. Given an (m x n) feature matrix $X$, an (m x 1) label vector $y$, and an (n x 1) weight vector $w$, the hypothesis function for linear regression is:\n",
    "\n",
    "$$\n",
    "y = X w\n",
    "$$\n",
    "\n",
    "Note that we can omit the bias term here because we have included a column of ones in our $X$ matrix, so the bias term is learned implicitly as a part of $w$. This will make our implementation easier.\n",
    "\n",
    "Our objective in linear regression is to learn the weights $w$ which best fit the data. This notion can be formalized as finding the optimal $w$ which minimizes the following loss function:\n",
    "\n",
    "$$\n",
    "\\min_{w} \\| X w - y \\|^2_2 + \\alpha \\| w \\|^2_2 \\\\\n",
    "$$\n",
    "\n",
    "This is the ridge regression loss function. The $\\| X w - y \\|^2_2$ term penalizes predictions $Xw$ which are not close to the label $y$. And the $\\alpha \\| w \\|^2_2$ penalizes large weight values, to favor a simpler, more generalizable model. The $\\alpha$ hyperparameter, known as the regularization parameter, is used to tune the complexity of the model - a higher $\\alpha$ results in smaller weights and lower complexity, and vice versa. Setting $\\alpha = 0$ gives us vanilla linear regression.\n",
    "\n",
    "Conveniently, ridge regression has a closed-form solution which gives us the optimal $w$ without having to do iterative methods such as gradient descent. The closed-form solution, known as the Normal Equations, is given by:\n",
    "\n",
    "$$\n",
    "w = (X^T X + \\alpha I)^{-1} X^T y\n",
    "$$"
   ]
  },
  {
   "cell_type": "markdown",
   "id": "115d3d7c",
   "metadata": {},
   "source": [
    "**2.1.10 Implement a `LinearRegression` class with two methods: `train` and `predict`.**\n",
    "\n",
    "**Note: You may NOT use sklearn for this implementation. You may, however, use `np.linalg.solve` to find the closed-form solution. It is highly recommended that you vectorize your code.**"
   ]
  },
  {
   "cell_type": "code",
   "execution_count": 29,
   "id": "951d66dc",
   "metadata": {},
   "outputs": [],
   "source": [
    "class LinearRegression():\n",
    "    '''\n",
    "    Linear regression model with L2-regularization (i.e. ridge regression).\n",
    "\n",
    "    Attributes\n",
    "    ----------\n",
    "    alpha: regularization parameter\n",
    "    w: (n x 1) weight vector\n",
    "    '''\n",
    "    \n",
    "    def __init__(self, alpha=0):\n",
    "        self.alpha = alpha\n",
    "        self.w = None\n",
    "\n",
    "    def train(self, X, y):\n",
    "        '''Trains model using ridge regression closed-form solution \n",
    "        (sets w to its optimal value).\n",
    "        \n",
    "        Parameters\n",
    "        ----------\n",
    "        X : (m x n) feature matrix\n",
    "        y: (m x 1) label vector\n",
    "        \n",
    "        Returns\n",
    "        -------\n",
    "        None\n",
    "        '''\n",
    "        ### Your code here\n",
    "        a = np.dot(X.T, X)\n",
    "        b = self.alpha * np.identity(X.shape[1])\n",
    "        arg = a + b\n",
    "        inv = np.linalg.inv(arg)\n",
    "        c = np.dot(X.T, y)\n",
    "        self.w = np.dot(inv, c)\n",
    "        \n",
    "    def predict(self, X):\n",
    "        '''Predicts on X using trained model.\n",
    "        \n",
    "        Parameters\n",
    "        ----------\n",
    "        X : (m x n) feature matrix\n",
    "        \n",
    "        Returns\n",
    "        -------\n",
    "        y_pred: (m x 1) prediction vector\n",
    "        '''\n",
    "        ### Your code here\n",
    "        return np.dot(X, self.w)\n",
    "        "
   ]
  },
  {
   "cell_type": "markdown",
   "id": "12b31e53",
   "metadata": {},
   "source": [
    "### Train, Evaluate, and Interpret LR Model"
   ]
  },
  {
   "cell_type": "markdown",
   "id": "d07b1578",
   "metadata": {},
   "source": [
    "**2.1.11 Using your `LinearRegression` implementation above, train a vanilla linear regression model ($\\alpha = 0$) on (X_train, y_train) from the synthetic dataset. Use this trained model to predict on X_test. Report the first 3 and last 3 predictions on X_test, along with the actual labels in y_test.**"
   ]
  },
  {
   "cell_type": "code",
   "execution_count": 30,
   "id": "a2fb09b3",
   "metadata": {},
   "outputs": [
    {
     "data": {
      "text/html": [
       "<div>\n",
       "<style scoped>\n",
       "    .dataframe tbody tr th:only-of-type {\n",
       "        vertical-align: middle;\n",
       "    }\n",
       "\n",
       "    .dataframe tbody tr th {\n",
       "        vertical-align: top;\n",
       "    }\n",
       "\n",
       "    .dataframe thead th {\n",
       "        text-align: right;\n",
       "    }\n",
       "</style>\n",
       "<table border=\"1\" class=\"dataframe\">\n",
       "  <thead>\n",
       "    <tr style=\"text-align: right;\">\n",
       "      <th></th>\n",
       "      <th>Prediction</th>\n",
       "      <th>Actual Label</th>\n",
       "    </tr>\n",
       "  </thead>\n",
       "  <tbody>\n",
       "    <tr>\n",
       "      <th>0</th>\n",
       "      <td>19.796467</td>\n",
       "      <td>19.758792</td>\n",
       "    </tr>\n",
       "    <tr>\n",
       "      <th>1</th>\n",
       "      <td>82.651064</td>\n",
       "      <td>87.927239</td>\n",
       "    </tr>\n",
       "    <tr>\n",
       "      <th>2</th>\n",
       "      <td>-5.345372</td>\n",
       "      <td>-1.963836</td>\n",
       "    </tr>\n",
       "    <tr>\n",
       "      <th>3</th>\n",
       "      <td>17.701314</td>\n",
       "      <td>26.533564</td>\n",
       "    </tr>\n",
       "    <tr>\n",
       "      <th>4</th>\n",
       "      <td>27.129503</td>\n",
       "      <td>19.076814</td>\n",
       "    </tr>\n",
       "    <tr>\n",
       "      <th>5</th>\n",
       "      <td>0.940088</td>\n",
       "      <td>0.071973</td>\n",
       "    </tr>\n",
       "  </tbody>\n",
       "</table>\n",
       "</div>"
      ],
      "text/plain": [
       "   Prediction  Actual Label\n",
       "0   19.796467     19.758792\n",
       "1   82.651064     87.927239\n",
       "2   -5.345372     -1.963836\n",
       "3   17.701314     26.533564\n",
       "4   27.129503     19.076814\n",
       "5    0.940088      0.071973"
      ]
     },
     "execution_count": 30,
     "metadata": {},
     "output_type": "execute_result"
    }
   ],
   "source": [
    "### Code here\n",
    "model = LinearRegression(alpha=0)\n",
    "model.train(X_train, y_train)\n",
    "preds = model.predict(X_test)\n",
    "\n",
    "df_preds = pd.DataFrame(columns=['Prediction', 'Actual Label'])\n",
    "\n",
    "df_preds['Prediction'] = np.concatenate([preds[:3], preds[-3:]])\n",
    "df_preds['Actual Label'] = np.concatenate([y_test[:3], y_test[-3:]])\n",
    "df_preds"
   ]
  },
  {
   "cell_type": "markdown",
   "id": "a6a99e9a",
   "metadata": {},
   "source": [
    "**2.1.12 Plot a scatter plot of y_test vs. X_test (just the non-ones column). Then, using the weights from the trained model above, plot the best-fit line for this data on the same figure.** \n",
    "\n",
    ">If your line goes through the data points, you have likely implemented the linear regression correctly!"
   ]
  },
  {
   "cell_type": "code",
   "execution_count": 31,
   "id": "b9dcaacd",
   "metadata": {},
   "outputs": [
    {
     "data": {
      "image/png": "[encoded data removed]",
      "text/plain": [
       "<Figure size 432x288 with 1 Axes>"
      ]
     },
     "metadata": {
      "needs_background": "light"
     },
     "output_type": "display_data"
    }
   ],
   "source": [
    "### Code here\n",
    "plt.scatter(X_test[:,1], y_test)\n",
    "plt.plot(X_test[:,1], np.dot(X_test, model.w), 1)\n",
    "plt.xlabel('X_test')\n",
    "plt.ylabel('y_test')\n",
    "plt.title('y_test vs X_test on Synthetic Data')\n",
    "plt.show()"
   ]
  },
  {
   "cell_type": "markdown",
   "id": "1179de8f",
   "metadata": {},
   "source": [
    "**2.1.13 Train a linear regression model ($\\alpha = 0$) on the car price training data. Make predictions and report the $R^2$ score on the training, validation, and test sets. Report the first 3 and last 3 predictions on the test set, along with the actual labels.**"
   ]
  },
  {
   "cell_type": "code",
   "execution_count": 32,
   "id": "795919fb",
   "metadata": {},
   "outputs": [
    {
     "name": "stdout",
     "output_type": "stream",
     "text": [
      "Training R2: 0.9219905598005702\n",
      "Validation R2: 0.8499749457913017\n",
      "Test R2: 0.8147706907036438\n"
     ]
    },
    {
     "data": {
      "text/html": [
       "<div>\n",
       "<style scoped>\n",
       "    .dataframe tbody tr th:only-of-type {\n",
       "        vertical-align: middle;\n",
       "    }\n",
       "\n",
       "    .dataframe tbody tr th {\n",
       "        vertical-align: top;\n",
       "    }\n",
       "\n",
       "    .dataframe thead th {\n",
       "        text-align: right;\n",
       "    }\n",
       "</style>\n",
       "<table border=\"1\" class=\"dataframe\">\n",
       "  <thead>\n",
       "    <tr style=\"text-align: right;\">\n",
       "      <th></th>\n",
       "      <th>Prediction</th>\n",
       "      <th>Actual Label</th>\n",
       "    </tr>\n",
       "  </thead>\n",
       "  <tbody>\n",
       "    <tr>\n",
       "      <th>0</th>\n",
       "      <td>5950.685925</td>\n",
       "      <td>6795.0</td>\n",
       "    </tr>\n",
       "    <tr>\n",
       "      <th>1</th>\n",
       "      <td>19284.306967</td>\n",
       "      <td>15750.0</td>\n",
       "    </tr>\n",
       "    <tr>\n",
       "      <th>2</th>\n",
       "      <td>14669.694666</td>\n",
       "      <td>15250.0</td>\n",
       "    </tr>\n",
       "    <tr>\n",
       "      <th>3</th>\n",
       "      <td>5957.835652</td>\n",
       "      <td>6377.0</td>\n",
       "    </tr>\n",
       "    <tr>\n",
       "      <th>4</th>\n",
       "      <td>36985.325856</td>\n",
       "      <td>45400.0</td>\n",
       "    </tr>\n",
       "    <tr>\n",
       "      <th>5</th>\n",
       "      <td>5005.464114</td>\n",
       "      <td>8916.5</td>\n",
       "    </tr>\n",
       "  </tbody>\n",
       "</table>\n",
       "</div>"
      ],
      "text/plain": [
       "     Prediction  Actual Label\n",
       "0   5950.685925        6795.0\n",
       "1  19284.306967       15750.0\n",
       "2  14669.694666       15250.0\n",
       "3   5957.835652        6377.0\n",
       "4  36985.325856       45400.0\n",
       "5   5005.464114        8916.5"
      ]
     },
     "execution_count": 32,
     "metadata": {},
     "output_type": "execute_result"
    }
   ],
   "source": [
    "### Code here\n",
    "\n",
    "model = LinearRegression(alpha=0)\n",
    "model.train(car_price_X_train, car_price_y_train)\n",
    "preds = model.predict(car_price_X_test)\n",
    "preds_val = model.predict(car_price_X_val)\n",
    "preds_train = model.predict(car_price_X_train)\n",
    "\n",
    "df_preds = pd.DataFrame(columns=['Prediction', 'Actual Label'])\n",
    "\n",
    "df_preds['Prediction'] = np.concatenate([preds[:3], preds[-3:]])\n",
    "df_preds['Actual Label'] = np.concatenate([car_price_y_test[:3], car_price_y_test[-3:]])\n",
    "print('Training R2:', r2_score(car_price_y_train, preds_train))\n",
    "print('Validation R2:', r2_score(car_price_y_val, preds_val))\n",
    "print('Test R2:', r2_score(car_price_y_test, preds))\n",
    "df_preds"
   ]
  },
  {
   "cell_type": "markdown",
   "id": "051c7530",
   "metadata": {},
   "source": [
    "**2.1.14 As a baseline model, use the mean of the training labels (car_price_y_train) as the prediction for all instances. Report the $R^2$ on the training, validation, and test sets using this baseline.** \n",
    "\n",
    ">This is a common baseline used in regression problems and tells you if your model is any good. Your linear regression $R^2$ should be much higher than these baseline $R^2$."
   ]
  },
  {
   "cell_type": "code",
   "execution_count": 33,
   "id": "ffc6053f",
   "metadata": {},
   "outputs": [
    {
     "name": "stdout",
     "output_type": "stream",
     "text": [
      "Training R2: 0.0\n",
      "Validation R2: -0.04252409813108615\n",
      "Test R2: -0.0028042246944892657\n"
     ]
    }
   ],
   "source": [
    "### Code here\n",
    "mean_train = np.mean(car_price_y_train)\n",
    "print('Training R2:', 1-np.sum((mean_train - car_price_y_train)**2)/np.sum((mean_train - car_price_y_train)**2))\n",
    "mean_val = np.mean(car_price_y_val)\n",
    "print('Validation R2:', 1-np.sum((mean_train - car_price_y_val)**2)/np.sum((mean_val - car_price_y_val)**2))\n",
    "mean_test = np.mean(car_price_y_test)\n",
    "print('Test R2:', 1-np.sum((mean_train - car_price_y_test)**2)/np.sum((mean_test - car_price_y_test)**2))"
   ]
  },
  {
   "cell_type": "markdown",
   "id": "539a93e2",
   "metadata": {},
   "source": [
    "**2.1.15 Interpret your model trained on the car price dataset using a bar chart of the model weights. Make sure to label the bars (x-axis) and don't forget the bias term!**"
   ]
  },
  {
   "cell_type": "code",
   "execution_count": 34,
   "id": "090609c7",
   "metadata": {},
   "outputs": [
    {
     "data": {
      "image/png": "[encoded data removed]",
      "text/plain": [
       "<Figure size 432x288 with 1 Axes>"
      ]
     },
     "metadata": {
      "needs_background": "light"
     },
     "output_type": "display_data"
    }
   ],
   "source": [
    "### Code here\n",
    "feature_names = car_price_new_X.columns.insert(0, 'bias')\n",
    "ax = sns.barplot(x=feature_names, y=model.w.flatten())\n",
    "ax.tick_params(axis='x', rotation=90)\n",
    "ax.set_title('Model Weights for each Feature on Car Price Dataset')\n",
    "ax.set_xlabel('Feature')\n",
    "ax.set_ylabel('Weight Coefficient')\n",
    "plt.show()"
   ]
  },
  {
   "cell_type": "markdown",
   "id": "0540208a",
   "metadata": {},
   "source": [
    "**2.1.16 According to your model, which features are the greatest contributors to the car price?**"
   ]
  },
  {
   "cell_type": "markdown",
   "id": "ae1ccf00",
   "metadata": {},
   "source": [
    "#### Comment here\n",
    "\n",
    "the engine size, curb weight and engine location are the greatest contributors to the car price"
   ]
  },
  {
   "cell_type": "markdown",
   "id": "d3e0c8ca",
   "metadata": {},
   "source": [
    "### Hyperparameter Tuning ($\\alpha$)"
   ]
  },
  {
   "cell_type": "markdown",
   "id": "4f305ddd",
   "metadata": {},
   "source": [
    "Now, let's do ridge regression and tune the $\\alpha$ regularization parameter on the car price dataset.\n",
    "\n",
    "**2.1.17 Sweep out values for $\\alpha$ using alphas = np.logspace(-5, 1, 20). Perform a grid search over these $\\alpha$ values, recording the training and validation $R^2$ for each $\\alpha$. A simple grid search is fine, no need for k-fold cross validation. Plot the training and validation $R^2$ as a function of $\\alpha$ on a single figure. Make sure to label the axes and the training and validation $R^2$ curves. Use a log scale for the x-axis.**"
   ]
  },
  {
   "cell_type": "code",
   "execution_count": 36,
   "id": "f2fc3193",
   "metadata": {},
   "outputs": [
    {
     "data": {
      "image/png": "[encoded data removed]",
      "text/plain": [
       "<Figure size 432x288 with 1 Axes>"
      ]
     },
     "metadata": {
      "needs_background": "light"
     },
     "output_type": "display_data"
    }
   ],
   "source": [
    "### Code here\n",
    "alphas = np.logspace(-5, 1, 20)\n",
    "\n",
    "train_R2s = []\n",
    "val_R2s = []\n",
    "\n",
    "for alpha in alphas:\n",
    "    model = LinearRegression(alpha=alpha)\n",
    "    model.train(car_price_X_train, car_price_y_train)\n",
    "    preds = model.predict(car_price_X_test)\n",
    "    preds_val = model.predict(car_price_X_val)\n",
    "    preds_train = model.predict(car_price_X_train)\n",
    "    \n",
    "    mean_train = np.mean(car_price_y_train)\n",
    "    train_R2 = 1-np.sum((preds_train - car_price_y_train)**2)/np.sum((mean_train - car_price_y_train)**2)\n",
    "    train_R2s.append(train_R2)\n",
    "    mean_val = np.mean(car_price_y_val)\n",
    "    val_R2 = 1-np.sum((preds_val - car_price_y_val)**2)/np.sum((mean_val - car_price_y_val)**2)\n",
    "    val_R2s.append(val_R2)\n",
    "    \n",
    "plt.plot(alphas, train_R2s, label='Training R2')\n",
    "plt.plot(alphas, val_R2s, label='Validation R2')\n",
    "plt.legend()\n",
    "plt.xlabel('Alpha (Log base 10)')\n",
    "plt.ylabel('R2')\n",
    "plt.show()"
   ]
  },
  {
   "cell_type": "markdown",
   "id": "cfd376b2",
   "metadata": {},
   "source": [
    "**2.1.18 Explain your plot above. How do training and validation $R^2$ behave with decreasing model complexity (increasing $\\alpha$)?**"
   ]
  },
  {
   "cell_type": "markdown",
   "id": "ea336fb6",
   "metadata": {},
   "source": [
    "#### Comment here\n",
    "\n",
    "with decreasing model complexity, the R square for training is going down and the R square for validation is going up. Both are moving rather slightly."
   ]
  },
  {
   "cell_type": "markdown",
   "id": "71ff765b",
   "metadata": {},
   "source": [
    "### 2.2 Logistic Regression"
   ]
  },
  {
   "cell_type": "markdown",
   "id": "48a76fb4",
   "metadata": {},
   "source": [
    "In this part, we will be using a heart disease dataset for classification. \n",
    "\n",
    "The classification goal is to predict whether the patient has 10-year risk of future coronary heart disease (CHD).The dataset provides information about patients, over 4,000 records and 15 attributes.\n",
    "\n",
    "\n",
    "**Variables:**\n",
    "\n",
    "Each attribute is a potential risk factor. There are both demographic, behavioral and medical risk factors.\n",
    "\n",
    "Demographic:\n",
    "- Sex: male or female(Nominal)\n",
    "- Age: Age of the patient;(Continuous - Although the recorded ages have been truncated to whole numbers, the concept of age is continuous)\n",
    "\n",
    "Behavioral:\n",
    "- Current Smoker: whether or not the patient is a current smoker (Nominal)\n",
    "- Cigs Per Day: the number of cigarettes that the person smoked on average in one day.(can be considered continuous as one can have any number of cigarettes, even half a cigarette.)\n",
    "\n",
    "Medical( history):\n",
    "- BP Meds: whether or not the patient was on blood pressure medication (Nominal)\n",
    "- Prevalent Stroke: whether or not the patient had previously had a stroke (Nominal)\n",
    "- Prevalent Hyp: whether or not the patient was hypertensive (Nominal)\n",
    "- Diabetes: whether or not the patient had diabetes (Nominal)\n",
    "\n",
    "Medical(current):\n",
    "- Tot Chol: total cholesterol level (Continuous)\n",
    "- Sys BP: systolic blood pressure (Continuous)\n",
    "- Dia BP: diastolic blood pressure (Continuous)\n",
    "- BMI: Body Mass Index (Continuous)\n",
    "- Heart Rate: heart rate (Continuous - In medical research, variables such as heart rate though in fact discrete, yet are considered continuous because of large number of possible values.)\n",
    "- Glucose: glucose level (Continuous)\n",
    "\n",
    "Predict variable (desired target):\n",
    "- 10 year risk of coronary heart disease CHD (binary: “1”, means “Yes”, “0” means “No”)"
   ]
  },
  {
   "cell_type": "code",
   "execution_count": 38,
   "id": "0c8d6353",
   "metadata": {
    "scrolled": false
   },
   "outputs": [
    {
     "data": {
      "text/html": [
       "<div>\n",
       "<style scoped>\n",
       "    .dataframe tbody tr th:only-of-type {\n",
       "        vertical-align: middle;\n",
       "    }\n",
       "\n",
       "    .dataframe tbody tr th {\n",
       "        vertical-align: top;\n",
       "    }\n",
       "\n",
       "    .dataframe thead th {\n",
       "        text-align: right;\n",
       "    }\n",
       "</style>\n",
       "<table border=\"1\" class=\"dataframe\">\n",
       "  <thead>\n",
       "    <tr style=\"text-align: right;\">\n",
       "      <th></th>\n",
       "      <th>male</th>\n",
       "      <th>age</th>\n",
       "      <th>education</th>\n",
       "      <th>currentSmoker</th>\n",
       "      <th>cigsPerDay</th>\n",
       "      <th>BPMeds</th>\n",
       "      <th>prevalentStroke</th>\n",
       "      <th>prevalentHyp</th>\n",
       "      <th>diabetes</th>\n",
       "      <th>totChol</th>\n",
       "      <th>sysBP</th>\n",
       "      <th>diaBP</th>\n",
       "      <th>BMI</th>\n",
       "      <th>heartRate</th>\n",
       "      <th>glucose</th>\n",
       "      <th>TenYearCHD</th>\n",
       "    </tr>\n",
       "  </thead>\n",
       "  <tbody>\n",
       "    <tr>\n",
       "      <th>0</th>\n",
       "      <td>1</td>\n",
       "      <td>39</td>\n",
       "      <td>4.0</td>\n",
       "      <td>0</td>\n",
       "      <td>0.0</td>\n",
       "      <td>0.0</td>\n",
       "      <td>0</td>\n",
       "      <td>0</td>\n",
       "      <td>0</td>\n",
       "      <td>195.0</td>\n",
       "      <td>106.0</td>\n",
       "      <td>70.0</td>\n",
       "      <td>26.97</td>\n",
       "      <td>80.0</td>\n",
       "      <td>77.0</td>\n",
       "      <td>0</td>\n",
       "    </tr>\n",
       "    <tr>\n",
       "      <th>1</th>\n",
       "      <td>0</td>\n",
       "      <td>46</td>\n",
       "      <td>2.0</td>\n",
       "      <td>0</td>\n",
       "      <td>0.0</td>\n",
       "      <td>0.0</td>\n",
       "      <td>0</td>\n",
       "      <td>0</td>\n",
       "      <td>0</td>\n",
       "      <td>250.0</td>\n",
       "      <td>121.0</td>\n",
       "      <td>81.0</td>\n",
       "      <td>28.73</td>\n",
       "      <td>95.0</td>\n",
       "      <td>76.0</td>\n",
       "      <td>0</td>\n",
       "    </tr>\n",
       "    <tr>\n",
       "      <th>2</th>\n",
       "      <td>1</td>\n",
       "      <td>48</td>\n",
       "      <td>1.0</td>\n",
       "      <td>1</td>\n",
       "      <td>20.0</td>\n",
       "      <td>0.0</td>\n",
       "      <td>0</td>\n",
       "      <td>0</td>\n",
       "      <td>0</td>\n",
       "      <td>245.0</td>\n",
       "      <td>127.5</td>\n",
       "      <td>80.0</td>\n",
       "      <td>25.34</td>\n",
       "      <td>75.0</td>\n",
       "      <td>70.0</td>\n",
       "      <td>0</td>\n",
       "    </tr>\n",
       "    <tr>\n",
       "      <th>3</th>\n",
       "      <td>0</td>\n",
       "      <td>61</td>\n",
       "      <td>3.0</td>\n",
       "      <td>1</td>\n",
       "      <td>30.0</td>\n",
       "      <td>0.0</td>\n",
       "      <td>0</td>\n",
       "      <td>1</td>\n",
       "      <td>0</td>\n",
       "      <td>225.0</td>\n",
       "      <td>150.0</td>\n",
       "      <td>95.0</td>\n",
       "      <td>28.58</td>\n",
       "      <td>65.0</td>\n",
       "      <td>103.0</td>\n",
       "      <td>1</td>\n",
       "    </tr>\n",
       "    <tr>\n",
       "      <th>4</th>\n",
       "      <td>0</td>\n",
       "      <td>46</td>\n",
       "      <td>3.0</td>\n",
       "      <td>1</td>\n",
       "      <td>23.0</td>\n",
       "      <td>0.0</td>\n",
       "      <td>0</td>\n",
       "      <td>0</td>\n",
       "      <td>0</td>\n",
       "      <td>285.0</td>\n",
       "      <td>130.0</td>\n",
       "      <td>84.0</td>\n",
       "      <td>23.10</td>\n",
       "      <td>85.0</td>\n",
       "      <td>85.0</td>\n",
       "      <td>0</td>\n",
       "    </tr>\n",
       "  </tbody>\n",
       "</table>\n",
       "</div>"
      ],
      "text/plain": [
       "   male  age  education  currentSmoker  cigsPerDay  BPMeds  prevalentStroke  \\\n",
       "0     1   39        4.0              0         0.0     0.0                0   \n",
       "1     0   46        2.0              0         0.0     0.0                0   \n",
       "2     1   48        1.0              1        20.0     0.0                0   \n",
       "3     0   61        3.0              1        30.0     0.0                0   \n",
       "4     0   46        3.0              1        23.0     0.0                0   \n",
       "\n",
       "   prevalentHyp  diabetes  totChol  sysBP  diaBP    BMI  heartRate  glucose  \\\n",
       "0             0         0    195.0  106.0   70.0  26.97       80.0     77.0   \n",
       "1             0         0    250.0  121.0   81.0  28.73       95.0     76.0   \n",
       "2             0         0    245.0  127.5   80.0  25.34       75.0     70.0   \n",
       "3             1         0    225.0  150.0   95.0  28.58       65.0    103.0   \n",
       "4             0         0    285.0  130.0   84.0  23.10       85.0     85.0   \n",
       "\n",
       "   TenYearCHD  \n",
       "0           0  \n",
       "1           0  \n",
       "2           0  \n",
       "3           1  \n",
       "4           0  "
      ]
     },
     "execution_count": 38,
     "metadata": {},
     "output_type": "execute_result"
    }
   ],
   "source": [
    "heart_disease_df = pd.read_csv('heart_disease.csv')\n",
    "heart_disease_df.head()"
   ]
  },
  {
   "cell_type": "markdown",
   "id": "6905f676",
   "metadata": {
    "id": "XUnefT_j8mVN"
   },
   "source": [
    "#### Missing Value Analysis\n",
    "\n",
    "**2.2.1 Are there any missing values in the dataset? If so, what can be done about it? (Think if removing is an option?)**"
   ]
  },
  {
   "cell_type": "code",
   "execution_count": 39,
   "id": "c3b245fb",
   "metadata": {},
   "outputs": [],
   "source": [
    "### Code here\n",
    "heart_disease_df[heart_disease_df.isnull().any(axis=1)]\n",
    "heart_disease_df_new = heart_disease_df\n",
    "heart_disease_df_new = heart_disease_df.fillna(0)"
   ]
  },
  {
   "cell_type": "code",
   "execution_count": 40,
   "id": "12f62920",
   "metadata": {},
   "outputs": [],
   "source": [
    "#### Comment here"
   ]
  },
  {
   "cell_type": "markdown",
   "id": "f4cbc470",
   "metadata": {
    "id": "IixTesFi6oyr"
   },
   "source": [
    "**2.2.2 Do you think that the distribution of labels is balanced? Why/why not? \n",
    "Hint: Find the probability of the different categories.**"
   ]
  },
  {
   "cell_type": "code",
   "execution_count": 43,
   "id": "0911b10e",
   "metadata": {},
   "outputs": [
    {
     "data": {
      "text/plain": [
       "0    0.848042\n",
       "1    0.151958\n",
       "Name: TenYearCHD, dtype: float64"
      ]
     },
     "execution_count": 43,
     "metadata": {},
     "output_type": "execute_result"
    }
   ],
   "source": [
    "### Code here\n",
    "\n",
    "heart_disease_df_new['TenYearCHD'].value_counts() / len(heart_disease_df_new['TenYearCHD'])\n"
   ]
  },
  {
   "cell_type": "markdown",
   "id": "12b47444",
   "metadata": {},
   "source": [
    "#### Comment here\n",
    "\n",
    "the distribution of labels is obviously not balanced since the proportion of the 0 label is much larger than 1 label."
   ]
  },
  {
   "cell_type": "markdown",
   "id": "9ecc3464",
   "metadata": {
    "id": "zzLzmgLvR_LH"
   },
   "source": [
    "**2.2.3 Plot the correlation matrix (first separate features and Y variable), and check if there is high correlation between the given numerical features (Threshold >=0.9). If yes, drop those highly correlated features from the dataframe.**"
   ]
  },
  {
   "cell_type": "code",
   "execution_count": 44,
   "id": "590bc3ed",
   "metadata": {},
   "outputs": [
    {
     "data": {
      "image/png": "[encoded data removed]",
      "text/plain": [
       "<Figure size 432x288 with 2 Axes>"
      ]
     },
     "metadata": {
      "needs_background": "light"
     },
     "output_type": "display_data"
    }
   ],
   "source": [
    "### Code here\n",
    "heart_disease_X = heart_disease_df_new.drop(columns = ['TenYearCHD'])\n",
    "heart_disease_Y = heart_disease_df_new['TenYearCHD']\n",
    "\n",
    "corr = heart_disease_X.corr()\n",
    "sns.heatmap(corr, annot=False)\n",
    "plt.xlabel('Feature')\n",
    "plt.ylabel('Feature')\n",
    "plt.title('Correlation Matrix between Features in Heart Disease Dataset')\n",
    "plt.show()"
   ]
  },
  {
   "cell_type": "code",
   "execution_count": 46,
   "id": "3bf198af",
   "metadata": {},
   "outputs": [
    {
     "name": "stdout",
     "output_type": "stream",
     "text": [
      "Features to drop: []\n"
     ]
    },
    {
     "name": "stderr",
     "output_type": "stream",
     "text": [
      "/var/folders/4t/xrgyjzp96fb4dmgw0wrydtrm0000gn/T/ipykernel_99812/2484504596.py:1: DeprecationWarning: `np.bool` is a deprecated alias for the builtin `bool`. To silence this warning, use `bool` by itself. Doing this will not modify any behavior and is safe. If you specifically wanted the numpy scalar type, use `np.bool_` here.\n",
      "Deprecated in NumPy 1.20; for more details and guidance: https://numpy.org/devdocs/release/1.20.0-notes.html#deprecations\n",
      "  upper_tri = corr.where(np.triu(np.ones(corr.shape),k=1).astype(np.bool))\n"
     ]
    }
   ],
   "source": [
    "upper_tri = corr.where(np.triu(np.ones(corr.shape),k=1).astype(np.bool))\n",
    "to_drop = [column for column in upper_tri.columns if any(upper_tri[column] > 0.9)]\n",
    "print('Features to drop:', to_drop)\n",
    "heart_disease_new = heart_disease_df_new.drop(columns=to_drop)"
   ]
  },
  {
   "cell_type": "markdown",
   "id": "922514b7",
   "metadata": {},
   "source": [
    "#### Comment here\n",
    "\n",
    "there is not high correlation between the given numerical features"
   ]
  },
  {
   "cell_type": "markdown",
   "id": "feef9026",
   "metadata": {
    "id": "10Ss0nmX6oo9"
   },
   "source": [
    "**2.2.4 Apply the following pre-processing steps:**\n",
    "\n",
    "1. Convert the label from a Pandas series to a Numpy (m x 1) vector. If you don't do this, it may cause problems when implementing the logistic regression model.\n",
    "2. Split the dataset into training (60%), validation (20%), and test (20%) sets.\n",
    "3. Standardize the columns in the feature matrices. To avoid information leakage, learn the standardization parameters from training, and then apply training, validation and test dataset.\n",
    "4. Add a column of ones to the feature matrices of train, validation and test dataset. This is a common trick so that we can learn a coefficient for the bias term of a linear model."
   ]
  },
  {
   "cell_type": "code",
   "execution_count": 47,
   "id": "a22bd4f9",
   "metadata": {},
   "outputs": [],
   "source": [
    "### Code here\n",
    "#1)Convert the label from a Pandas series to a Numpy (m x 1) vector\n",
    "heart_disease_Y = heart_disease_Y.to_numpy()\n",
    "heart_disease_Y = heart_disease_Y.reshape((heart_disease_Y.shape[0], 1))\n",
    "# 2)Split the dataset into training (60%), validation (20%), and test (20%) sets.\n",
    "X_dev_hd, X_test_hd, y_dev_hd, y_test_hd = train_test_split(heart_disease_X, heart_disease_Y, test_size=0.2, random_state=0)\n",
    "X_train_hd, X_val_hd, y_train_hd, y_val_hd = train_test_split(X_dev_hd, y_dev_hd, test_size=0.25, random_state=0)\n",
    "\n",
    "# 3)Standardize the columns in the feature matrices\n",
    "scaler = StandardScaler()\n",
    "X_train_hd = scaler.fit_transform(X_train_hd)   # Fit and transform scalar on X_train\n",
    "X_val_hd = scaler.transform(X_val_hd)           # Transform X_val\n",
    "X_test_hd = scaler.transform(X_test_hd)         # Transform X_test\n",
    "\n",
    "# 4)Add a column of ones to the feature matrices\n",
    "X_train_hd = np.hstack([np.ones((X_train_hd.shape[0], 1)), X_train_hd])\n",
    "X_val_hd = np.hstack([np.ones((X_val_hd.shape[0], 1)), X_val_hd])\n",
    "X_test_hd = np.hstack([np.ones((X_test_hd.shape[0], 1)), X_test_hd])\n"
   ]
  },
  {
   "cell_type": "markdown",
   "id": "8f7594ae",
   "metadata": {
    "id": "fahb5S5B6omA"
   },
   "source": [
    "### Implement Logistic Regression\n",
    "\n",
    "We will now implement logistic regression with L2 regularization. Given an (m x n) feature matrix $X$, an (m x 1) label vector $y$, and an (n x 1) weight vector $w$, the hypothesis function for logistic regression is:\n",
    "\n",
    "$$\n",
    "y = \\sigma(X w)\n",
    "$$\n",
    "\n",
    "where $\\sigma(x) = \\frac{1}{1 + e^{-x}}$, i.e. the sigmoid function. This function scales the prediction to be a probability between 0 and 1, and can then be thresholded to get a discrete class prediction.\n",
    "\n",
    "Just as with linear regression, our objective in logistic regression is to learn the weights $𝑤$ which best fit the data. For L2-regularized logistic regression, we find an optimal $w$ to minimize the following loss function:\n",
    "\n",
    "$$\n",
    "\\min_{w} \\ -y^T \\ \\text{log}(\\sigma(Xw)) \\ - \\  (\\mathbf{1} - y)^T \\ \\text{log}(\\mathbf{1} - \\sigma(Xw)) \\ + \\ \\alpha \\| w \\|^2_2 \\\\\n",
    "$$\n",
    "\n",
    "Unlike linear regression, however, logistic regression has no closed-form solution for the optimal $w$. So, we will use gradient descent to find the optimal $w$. The (n x 1) gradient vector $g$ for the loss function above is:\n",
    "\n",
    "$$\n",
    "g = X^T \\Big(\\sigma(Xw) - y\\Big) + 2 \\alpha w\n",
    "$$\n",
    "\n",
    "Below is pseudocode for gradient descent to find the optimal $w$. You should first initialize $w$ (e.g. to a (n x 1) zero vector). Then, for some number of epochs $t$, you should update $w$ with $w - \\eta g $, where $\\eta$ is the learning rate and $g$ is the gradient. You can learn more about gradient descent [here](https://www.coursera.org/lecture/machine-learning/gradient-descent-8SpIM).\n",
    "\n",
    "> $w = \\mathbf{0}$\n",
    "> \n",
    "> $\\text{for } i = 1, 2, ..., t$\n",
    ">\n",
    "> $\\quad \\quad w = w - \\eta g $\n"
   ]
  },
  {
   "cell_type": "markdown",
   "id": "7306eff4",
   "metadata": {
    "id": "qaSAcopq6ojI"
   },
   "source": [
    "**A LogisticRegression class with five methods: train, predict, calculate_loss, calculate_gradient, and calculate_sigmoid has been implemented for you below.**"
   ]
  },
  {
   "cell_type": "code",
   "execution_count": 49,
   "id": "ae48fbc5",
   "metadata": {
    "id": "st4bG7WtI0qI"
   },
   "outputs": [],
   "source": [
    "class LogisticRegression():\n",
    "    '''\n",
    "    Logistic regression model with L2 regularization.\n",
    "\n",
    "    Attributes\n",
    "    ----------\n",
    "    alpha: regularization parameter\n",
    "    t: number of epochs to run gradient descent\n",
    "    eta: learning rate for gradient descent\n",
    "    w: (n x 1) weight vector\n",
    "    '''\n",
    "    \n",
    "    def __init__(self, alpha=0, t=100, eta=1e-3):\n",
    "        self.alpha = alpha\n",
    "        self.t = t\n",
    "        self.eta = eta\n",
    "        self.w = None\n",
    "\n",
    "    def train(self, X, y):\n",
    "        '''Trains logistic regression model using gradient descent \n",
    "        (sets w to its optimal value).\n",
    "        \n",
    "        Parameters\n",
    "        ----------\n",
    "        X : (m x n) feature matrix\n",
    "        y: (m x 1) label vector\n",
    "        \n",
    "        Returns\n",
    "        -------\n",
    "        losses: (t x 1) vector of losses at each epoch of gradient descent\n",
    "        '''\n",
    "        \n",
    "        loss = list()\n",
    "        self.w = np.zeros((X.shape[1],1))\n",
    "        for i in range(self.t): \n",
    "            self.w = self.w - (self.eta * self.calculate_gradient(X, y))\n",
    "            loss.append(self.calculate_loss(X, y))\n",
    "        return loss\n",
    "        \n",
    "    def predict(self, X):\n",
    "        '''Predicts on X using trained model. Make sure to threshold \n",
    "        the predicted probability to return a 0 or 1 prediction.\n",
    "        \n",
    "        Parameters\n",
    "        ----------\n",
    "        X : (m x n) feature matrix\n",
    "        \n",
    "        Returns\n",
    "        -------\n",
    "        y_pred: (m x 1) 0/1 prediction vector\n",
    "        '''\n",
    "        y_pred = self.calculate_sigmoid(X.dot(self.w))\n",
    "        y_pred[y_pred >= 0.5] = 1\n",
    "        y_pred[y_pred < 0.5] = 0\n",
    "        return y_pred\n",
    "    \n",
    "    def calculate_loss(self, X, y):\n",
    "        '''Calculates the logistic regression loss using X, y, w, \n",
    "        and alpha. Useful as a helper function for train().\n",
    "        \n",
    "        Parameters\n",
    "        ----------\n",
    "        X : (m x n) feature matrix\n",
    "        y: (m x 1) label vector\n",
    "        \n",
    "        Returns\n",
    "        -------\n",
    "        loss: (scalar) logistic regression loss\n",
    "        '''\n",
    "        return -y.T.dot(np.log(self.calculate_sigmoid(X.dot(self.w)))) - (1-y).T.dot(np.log(1-self.calculate_sigmoid(X.dot(self.w)))) + self.alpha*np.linalg.norm(self.w, ord=2)**2\n",
    "    \n",
    "    def calculate_gradient(self, X, y):\n",
    "        '''Calculates the gradient of the logistic regression loss \n",
    "        using X, y, w, and alpha. Useful as a helper function \n",
    "        for train().\n",
    "        \n",
    "        Parameters\n",
    "        ----------\n",
    "        X : (m x n) feature matrix\n",
    "        y: (m x 1) label vector\n",
    "        \n",
    "        Returns\n",
    "        -------\n",
    "        gradient: (n x 1) gradient vector for logistic regression loss\n",
    "        '''\n",
    "        return X.T.dot(self.calculate_sigmoid( X.dot(self.w)) - y) + 2*self.alpha*self.w        \n",
    "            \n",
    "    \n",
    "    def calculate_sigmoid(self, x):\n",
    "        '''Calculates the sigmoid function on each element in vector x. \n",
    "        Useful as a helper function for predict(), calculate_loss(), \n",
    "        and calculate_gradient().\n",
    "        \n",
    "        Parameters\n",
    "        ----------\n",
    "        x: (m x 1) vector\n",
    "        \n",
    "        Returns\n",
    "        -------\n",
    "        sigmoid_x: (m x 1) vector of sigmoid on each element in x\n",
    "        '''\n",
    "        return (1)/(1 + np.exp(-x.astype('float')))"
   ]
  },
  {
   "cell_type": "markdown",
   "id": "a1bbc9b1",
   "metadata": {
    "id": "AX7qSyEg6oeG"
   },
   "source": [
    "**2.2.5 Plot Loss over Epoch and Search the space randomly to find best hyperparameters.**\n",
    "\n",
    "A: Using your implementation above, train a logistic regression model **(alpha=0, t=100, eta=1e-3)** on the voice recognition training data. Plot the training loss over epochs. Make sure to label your axes. You should see the loss decreasing and start to converge. \n",
    "\n",
    "B: Using **alpha between (0,1), eta between(0, 0.001) and t between (0, 100)**, find the best hyperparameters for LogisticRegression. You can randomly search the space 20 times to find the best hyperparameters.\n",
    "\n",
    "C. Compare accuracy on the test dataset for both the scenarios."
   ]
  },
  {
   "cell_type": "code",
   "execution_count": 50,
   "id": "136abd89",
   "metadata": {},
   "outputs": [
    {
     "data": {
      "image/png": "[encoded data removed]",
      "text/plain": [
       "<Figure size 432x288 with 1 Axes>"
      ]
     },
     "metadata": {
      "needs_background": "light"
     },
     "output_type": "display_data"
    },
    {
     "name": "stdout",
     "output_type": "stream",
     "text": [
      "Test Accuracy: 0.8431603773584906\n"
     ]
    }
   ],
   "source": [
    "### Code here\n",
    "from sklearn.metrics import accuracy_score\n",
    "\n",
    "# A\n",
    "model = LogisticRegression(alpha=0, t=100, eta=1e-3)\n",
    "loss = model.train(X_train_hd, y_train_hd)\n",
    "loss = np.array(loss).reshape(np.array(loss).shape[0],)\n",
    "plt.plot(np.arange(1, 101), loss)\n",
    "plt.xlabel('Epochs')\n",
    "plt.ylabel('Loss')\n",
    "plt.title('Training Loss over Epochs for Heart Disease Dataset')\n",
    "plt.show()\n",
    "\n",
    "print('Test Accuracy:', accuracy_score(y_test_hd, model.predict(X_test_hd)))"
   ]
  },
  {
   "cell_type": "code",
   "execution_count": 51,
   "id": "45f5256c",
   "metadata": {},
   "outputs": [
    {
     "name": "stdout",
     "output_type": "stream",
     "text": [
      "Best alpha: 0.7151893663724195\n",
      "Best eta: 0.0007991585642167236\n",
      "Best t: 31\n",
      "Validation Accuracy: 0.8549528301886793\n",
      "Test Accuracy: 0.8431603773584906\n"
     ]
    }
   ],
   "source": [
    "# B and C\n",
    "np.random.seed(0)\n",
    "\n",
    "alphas = np.random.uniform(0, 1, 20)\n",
    "etas = np.random.uniform(0, 0.001, 20)\n",
    "ts = np.random.randint(0, 100, 20)\n",
    "\n",
    "best_accu = 0\n",
    "best_alpha = -1\n",
    "best_eta = -1\n",
    "best_t = -1\n",
    "\n",
    "for i in range(20):\n",
    "    alpha = alphas[i]\n",
    "    eta = etas[i]\n",
    "    t = ts[i]\n",
    "    \n",
    "    model = LogisticRegression(alpha=alpha, t=t, eta=eta)\n",
    "    model.train(X_train_hd, y_train_hd)\n",
    "    preds_val = model.predict(X_val_hd)\n",
    "    accu_val = accuracy_score(y_val_hd, preds_val)\n",
    "    \n",
    "    if best_accu < accu_val:\n",
    "        best_accu = accu_val\n",
    "        best_alpha = alpha\n",
    "        best_eta = eta\n",
    "        best_t = t\n",
    "\n",
    "print('Best alpha:', best_alpha)\n",
    "print('Best eta:', best_eta)\n",
    "print('Best t:', best_t)\n",
    "print('Validation Accuracy:', accu_val)\n",
    "\n",
    "print('Test Accuracy:', accuracy_score(y_test_hd, model.predict(X_test_hd)))"
   ]
  },
  {
   "cell_type": "markdown",
   "id": "bd3dc6f3",
   "metadata": {},
   "source": [
    "**2.2.6 Do you think the model is performing well keeping the class distribution in mind?**"
   ]
  },
  {
   "cell_type": "markdown",
   "id": "e74687ad",
   "metadata": {},
   "source": [
    "#### Comment here\n",
    "\n",
    "the model is not performing well since there is no significant difference between the model accuracy and the model that set all the data label 0"
   ]
  },
  {
   "cell_type": "markdown",
   "id": "e8807c92",
   "metadata": {},
   "source": [
    "> We will look into different evaluation metrics in Lecture 5 that will help us with such imbalanced datasets. "
   ]
  },
  {
   "cell_type": "markdown",
   "id": "2f9cfb46",
   "metadata": {
    "id": "cfFGXYlk6oUj"
   },
   "source": [
    "### Feature Importance\n",
    "\n",
    "**2.2.7 Interpret your trained model using a bar chart of the model weights. Make sure to label the bars (x-axis) and don't forget the bias term!**"
   ]
  },
  {
   "cell_type": "code",
   "execution_count": 52,
   "id": "639a8007",
   "metadata": {},
   "outputs": [
    {
     "data": {
      "image/png": "[encoded data removed]",
      "text/plain": [
       "<Figure size 432x288 with 1 Axes>"
      ]
     },
     "metadata": {
      "needs_background": "light"
     },
     "output_type": "display_data"
    }
   ],
   "source": [
    "### Code here\n",
    "model = LogisticRegression(alpha=best_alpha, t=best_t, eta=best_eta)\n",
    "w = model.train(X_train_hd, y_train_hd)\n",
    "\n",
    "feature_names = heart_disease_X.columns.insert(0, 'bias')\n",
    "ax = sns.barplot(x=feature_names, y=model.w.flatten())\n",
    "ax.tick_params(axis='x', rotation=90)\n",
    "ax.set_title('Model Weights for Heart Disease Data')\n",
    "ax.set_xlabel('Feature')\n",
    "ax.set_ylabel('Weight Coefficient')\n",
    "plt.show()"
   ]
  },
  {
   "cell_type": "markdown",
   "id": "3ce73a7b",
   "metadata": {},
   "source": [
    "#### Comment here\n",
    "\n",
    "the feature like age and cigs per day are most important ones to predict the 10 year risk of heart disease"
   ]
  },
  {
   "cell_type": "markdown",
   "id": "23b3ce58",
   "metadata": {
    "id": "6F-hltTTJeF2"
   },
   "source": [
    "\n",
    "# **Part 3: Support Vector Machines**\n",
    "\n",
    "In this part, we will be using support vector machines for classification on the heart disease dataset."
   ]
  },
  {
   "cell_type": "markdown",
   "id": "14a0701f",
   "metadata": {
    "id": "MJZ0qe_ZJsVu"
   },
   "source": [
    "### Train Primal SVM\n",
    "**3.1 Train a primal SVM (with default parameters) on the heart disease dataset. Make predictions and report the accuracy on the training, validation, and test sets.**"
   ]
  },
  {
   "cell_type": "code",
   "execution_count": 53,
   "id": "88f7fcab",
   "metadata": {},
   "outputs": [
    {
     "name": "stdout",
     "output_type": "stream",
     "text": [
      "Training accuracy: 0.850814421572809\n",
      "Validation accuracy: 0.8438890619437522\n",
      "Test accuracy: 0.8348778479886081\n"
     ]
    },
    {
     "name": "stderr",
     "output_type": "stream",
     "text": [
      "/Users/chenziruo/opt/anaconda3/lib/python3.9/site-packages/sklearn/utils/validation.py:993: DataConversionWarning: A column-vector y was passed when a 1d array was expected. Please change the shape of y to (n_samples, ), for example using ravel().\n",
      "  y = column_or_1d(y, warn=True)\n"
     ]
    }
   ],
   "source": [
    "### Code here\n",
    "model = LinearSVC(dual=False)\n",
    "model.fit(X_train_hd, y_train_hd)\n",
    "print('Training accuracy:', np.mean(model.predict(X_train_hd) == y_train_hd))\n",
    "print('Validation accuracy:', np.mean(model.predict(X_val_hd) == y_val_hd))\n",
    "print('Test accuracy:', np.mean(model.predict(X_test_hd) == y_test_hd))"
   ]
  },
  {
   "cell_type": "markdown",
   "id": "697691a0",
   "metadata": {
    "id": "ri5ZXq5kLo75"
   },
   "source": [
    "### Train Dual SVM\n",
    "**3.2 Train a dual SVM (with default parameters) on the heart disease dataset. Make predictions and report the accuracy on the training, validation, and test sets.**"
   ]
  },
  {
   "cell_type": "code",
   "execution_count": 54,
   "id": "140962d7",
   "metadata": {},
   "outputs": [
    {
     "name": "stderr",
     "output_type": "stream",
     "text": [
      "/Users/chenziruo/opt/anaconda3/lib/python3.9/site-packages/sklearn/utils/validation.py:993: DataConversionWarning: A column-vector y was passed when a 1d array was expected. Please change the shape of y to (n_samples, ), for example using ravel().\n",
      "  y = column_or_1d(y, warn=True)\n"
     ]
    },
    {
     "name": "stdout",
     "output_type": "stream",
     "text": [
      "Training accuracy: 0.8524783634933124\n",
      "Validation accuracy: 0.8455188679245284\n",
      "Test accuracy: 0.8372641509433962\n"
     ]
    }
   ],
   "source": [
    "### Code here\n",
    "model = SVC(kernel='linear')\n",
    "model.fit(X_train_hd, y_train_hd)\n",
    "print('Training accuracy:', np.mean(model.predict(X_train_hd) == y_train_hd))\n",
    "print('Validation accuracy:', np.mean(model.predict(X_val_hd) == y_val_hd))\n",
    "print('Test accuracy:', np.mean(model.predict(X_test_hd) == y_test_hd))"
   ]
  },
  {
   "cell_type": "code",
   "execution_count": null,
   "id": "7c3a43b0",
   "metadata": {},
   "outputs": [],
   "source": []
  }
 ],
 "metadata": {
  "kernelspec": {
   "display_name": "Python 3 (ipykernel)",
   "language": "python",
   "name": "python3"
  },
  "language_info": {
   "codemirror_mode": {
    "name": "ipython",
    "version": 3
   },
   "file_extension": ".py",
   "mimetype": "text/x-python",
   "name": "python",
   "nbconvert_exporter": "python",
   "pygments_lexer": "ipython3",
   "version": "3.9.12"
  }
 },
 "nbformat": 4,
 "nbformat_minor": 5
}
